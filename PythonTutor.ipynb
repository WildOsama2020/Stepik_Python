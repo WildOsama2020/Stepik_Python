{
  "nbformat": 4,
  "nbformat_minor": 0,
  "metadata": {
    "colab": {
      "name": "PythonTutor.ipynb",
      "provenance": [],
      "collapsed_sections": [],
      "authorship_tag": "ABX9TyOBeuqSwILj+wHGOZIujyuj",
      "include_colab_link": true
    },
    "kernelspec": {
      "name": "python3",
      "display_name": "Python 3"
    }
  },
  "cells": [
    {
      "cell_type": "markdown",
      "metadata": {
        "id": "view-in-github",
        "colab_type": "text"
      },
      "source": [
        "<a href=\"https://colab.research.google.com/github/WildOsama2020/Stepik_Python/blob/master/PythonTutor.ipynb\" target=\"_parent\"><img src=\"https://colab.research.google.com/assets/colab-badge.svg\" alt=\"Open In Colab\"/></a>"
      ]
    },
    {
      "cell_type": "markdown",
      "metadata": {
        "id": "4pL9n_d1zeR-"
      },
      "source": [
        "Условие\n",
        "Известно, что на доске 8×8 можно расставить 8 ферзей так, чтобы они не били друг друга. Вам дана расстановка 8 ферзей на доске, определите, есть ли среди них пара бьющих друг друга.\n",
        "Программа получает на вход восемь пар чисел, каждое число от 1 до 8 — координаты 8 ферзей. Если ферзи не бьют друг друга, выведите слово NO, иначе выведите YES."
      ]
    },
    {
      "cell_type": "code",
      "metadata": {
        "id": "uaYsP1EoxX8_",
        "outputId": "3e63a06c-063d-4624-ca6f-70f5d14f7493",
        "colab": {
          "base_uri": "https://localhost:8080/",
          "height": 84
        }
      },
      "source": [
        "s = [[int(i) for i in input().split(' ')]]\n",
        "result = 'NO'\n",
        "for i in range(1, 8):\n",
        "    n, m = (int(x) for x in input().split(' '))\n",
        "    #print(s)\n",
        "    for j in range(i):\n",
        "        if n == s[j][0] or m == s[j][1] or abs(n - s[j][0]) == abs(m - s[j][1]):\n",
        "            result = 'YES'\n",
        "            break\n",
        "    if result == 'YES':\n",
        "        break\n",
        "    s += [[n, m]]\n",
        "print(result)"
      ],
      "execution_count": 10,
      "outputs": [
        {
          "output_type": "stream",
          "text": [
            "1 8\n",
            "2 7\n",
            "[[1, 8]]\n",
            "YES\n"
          ],
          "name": "stdout"
        }
      ]
    },
    {
      "cell_type": "code",
      "metadata": {
        "id": "bVgrjYG7xpWH"
      },
      "source": [
        ""
      ],
      "execution_count": null,
      "outputs": []
    }
  ]
}