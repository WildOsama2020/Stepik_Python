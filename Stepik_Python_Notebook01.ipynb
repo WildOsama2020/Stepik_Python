{
  "nbformat": 4,
  "nbformat_minor": 0,
  "metadata": {
    "accelerator": "GPU",
    "colab": {
      "name": "Stepik Python Notebook01.ipynb",
      "provenance": [],
      "collapsed_sections": [],
      "include_colab_link": true
    },
    "kernelspec": {
      "display_name": "Python 3",
      "language": "python",
      "name": "python3"
    },
    "language_info": {
      "codemirror_mode": {
        "name": "ipython",
        "version": 3
      },
      "file_extension": ".py",
      "mimetype": "text/x-python",
      "name": "python",
      "nbconvert_exporter": "python",
      "pygments_lexer": "ipython3",
      "version": "3.8.3"
    }
  },
  "cells": [
    {
      "cell_type": "markdown",
      "metadata": {
        "id": "view-in-github",
        "colab_type": "text"
      },
      "source": [
        "<a href=\"https://colab.research.google.com/github/WildOsama2020/Stepik_Python/blob/master/Stepik_Python_Notebook01.ipynb\" target=\"_parent\"><img src=\"https://colab.research.google.com/assets/colab-badge.svg\" alt=\"Open In Colab\"/></a>"
      ]
    },
    {
      "cell_type": "code",
      "metadata": {
        "colab_type": "code",
        "id": "r4BY8kqMLgQC",
        "colab": {},
        "outputId": "bd225e28-00c9-4dab-86d1-d1c1cd12ab30"
      },
      "source": [
        "2+5"
      ],
      "execution_count": null,
      "outputs": [
        {
          "output_type": "execute_result",
          "data": {
            "text/plain": [
              "7"
            ]
          },
          "metadata": {
            "tags": []
          },
          "execution_count": 1
        }
      ]
    },
    {
      "cell_type": "code",
      "metadata": {
        "colab_type": "code",
        "id": "57SrCK-HLgQK",
        "colab": {},
        "outputId": "5253e31d-163a-4609-c7ed-36c91b472dd3"
      },
      "source": [
        "10-5"
      ],
      "execution_count": null,
      "outputs": [
        {
          "output_type": "execute_result",
          "data": {
            "text/plain": [
              "5"
            ]
          },
          "metadata": {
            "tags": []
          },
          "execution_count": 2
        }
      ]
    },
    {
      "cell_type": "code",
      "metadata": {
        "colab_type": "code",
        "id": "lRltT9tSLgQO",
        "colab": {},
        "outputId": "a87b1df3-664f-427d-8fb3-675817392012"
      },
      "source": [
        "2*5"
      ],
      "execution_count": null,
      "outputs": [
        {
          "output_type": "execute_result",
          "data": {
            "text/plain": [
              "10"
            ]
          },
          "metadata": {
            "tags": []
          },
          "execution_count": 3
        }
      ]
    },
    {
      "cell_type": "code",
      "metadata": {
        "colab_type": "code",
        "id": "Kxc7PKtFLgQR",
        "colab": {},
        "outputId": "bae28f20-2f48-4862-e156-9c797311afb4"
      },
      "source": [
        "305932507 * 5320598320598"
      ],
      "execution_count": null,
      "outputs": [
        {
          "output_type": "execute_result",
          "data": {
            "text/plain": [
              "1627743982960535879186"
            ]
          },
          "metadata": {
            "tags": []
          },
          "execution_count": 4
        }
      ]
    },
    {
      "cell_type": "code",
      "metadata": {
        "colab_type": "code",
        "id": "k6aaHFkzLgQU",
        "colab": {},
        "outputId": "fe08632e-430f-435c-fe4c-8cf95d22cdea"
      },
      "source": [
        "3 + 5 * 12"
      ],
      "execution_count": null,
      "outputs": [
        {
          "output_type": "execute_result",
          "data": {
            "text/plain": [
              "63"
            ]
          },
          "metadata": {
            "tags": []
          },
          "execution_count": 5
        }
      ]
    },
    {
      "cell_type": "code",
      "metadata": {
        "colab_type": "code",
        "id": "kvAeRiZBLgQW",
        "colab": {},
        "outputId": "c802eb73-fe99-46be-c4e6-99a63c8a38fa"
      },
      "source": [
        "(3 + 5) * 4"
      ],
      "execution_count": null,
      "outputs": [
        {
          "output_type": "execute_result",
          "data": {
            "text/plain": [
              "32"
            ]
          },
          "metadata": {
            "tags": []
          },
          "execution_count": 6
        }
      ]
    },
    {
      "cell_type": "code",
      "metadata": {
        "colab_type": "code",
        "id": "zvcCSsgWLgQZ",
        "colab": {},
        "outputId": "045f12d9-0abb-45df-f56e-7342f237e706"
      },
      "source": [
        "11111 * 1111111"
      ],
      "execution_count": null,
      "outputs": [
        {
          "output_type": "execute_result",
          "data": {
            "text/plain": [
              "12345554321"
            ]
          },
          "metadata": {
            "tags": []
          },
          "execution_count": 7
        }
      ]
    },
    {
      "cell_type": "code",
      "metadata": {
        "colab_type": "code",
        "id": "yt1RL2K6LgQc",
        "colab": {},
        "outputId": "e0c0b94e-1323-43f7-ba5d-6a9d08ef0a1b"
      },
      "source": [
        "40 // 8"
      ],
      "execution_count": null,
      "outputs": [
        {
          "output_type": "execute_result",
          "data": {
            "text/plain": [
              "5"
            ]
          },
          "metadata": {
            "tags": []
          },
          "execution_count": 8
        }
      ]
    },
    {
      "cell_type": "code",
      "metadata": {
        "colab_type": "code",
        "id": "B5M9tzCwLgQf",
        "colab": {},
        "outputId": "512e8746-5385-457b-ec3f-03b1a152ff3d"
      },
      "source": [
        "41 // 8"
      ],
      "execution_count": null,
      "outputs": [
        {
          "output_type": "execute_result",
          "data": {
            "text/plain": [
              "5"
            ]
          },
          "metadata": {
            "tags": []
          },
          "execution_count": 9
        }
      ]
    },
    {
      "cell_type": "code",
      "metadata": {
        "colab_type": "code",
        "id": "0AkTDwXNLgQh",
        "colab": {},
        "outputId": "70010a97-2dd7-452a-8dee-b976c04cf451"
      },
      "source": [
        "41 % 8"
      ],
      "execution_count": null,
      "outputs": [
        {
          "output_type": "execute_result",
          "data": {
            "text/plain": [
              "1"
            ]
          },
          "metadata": {
            "tags": []
          },
          "execution_count": 10
        }
      ]
    },
    {
      "cell_type": "code",
      "metadata": {
        "colab_type": "code",
        "id": "MHcOlb5YLgQj",
        "colab": {},
        "outputId": "f0e93327-1ba0-4d56-a740-f814e737afa6"
      },
      "source": [
        "42 / (4 + 2 * (-2))"
      ],
      "execution_count": null,
      "outputs": [
        {
          "output_type": "error",
          "ename": "ZeroDivisionError",
          "evalue": "division by zero",
          "traceback": [
            "\u001b[1;31m---------------------------------------------------------------------------\u001b[0m",
            "\u001b[1;31mZeroDivisionError\u001b[0m                         Traceback (most recent call last)",
            "\u001b[1;32m<ipython-input-11-c5316660a9b3>\u001b[0m in \u001b[0;36m<module>\u001b[1;34m\u001b[0m\n\u001b[1;32m----> 1\u001b[1;33m \u001b[1;36m42\u001b[0m \u001b[1;33m/\u001b[0m \u001b[1;33m(\u001b[0m\u001b[1;36m4\u001b[0m \u001b[1;33m+\u001b[0m \u001b[1;36m2\u001b[0m \u001b[1;33m*\u001b[0m \u001b[1;33m(\u001b[0m\u001b[1;33m-\u001b[0m\u001b[1;36m2\u001b[0m\u001b[1;33m)\u001b[0m\u001b[1;33m)\u001b[0m\u001b[1;33m\u001b[0m\u001b[1;33m\u001b[0m\u001b[0m\n\u001b[0m",
            "\u001b[1;31mZeroDivisionError\u001b[0m: division by zero"
          ]
        }
      ]
    },
    {
      "cell_type": "code",
      "metadata": {
        "colab_type": "code",
        "id": "Po_X5YSVLgQl",
        "colab": {},
        "outputId": "0e985d56-6b7e-4340-e639-846463c7653c"
      },
      "source": [
        "339 % 10"
      ],
      "execution_count": null,
      "outputs": [
        {
          "output_type": "execute_result",
          "data": {
            "text/plain": [
              "9"
            ]
          },
          "metadata": {
            "tags": []
          },
          "execution_count": 12
        }
      ]
    },
    {
      "cell_type": "code",
      "metadata": {
        "colab_type": "code",
        "id": "ebLrQfbRLgQn",
        "colab": {},
        "outputId": "56b68d61-675d-4551-b0de-cbfe1e71e91b"
      },
      "source": [
        "239 // 10"
      ],
      "execution_count": null,
      "outputs": [
        {
          "output_type": "execute_result",
          "data": {
            "text/plain": [
              "23"
            ]
          },
          "metadata": {
            "tags": []
          },
          "execution_count": 13
        }
      ]
    },
    {
      "cell_type": "code",
      "metadata": {
        "colab_type": "code",
        "id": "oqc014ZbLgQp",
        "colab": {},
        "outputId": "12af2c1d-a45c-4fbf-c50a-7591e2e53696"
      },
      "source": [
        "2 ** 3"
      ],
      "execution_count": null,
      "outputs": [
        {
          "output_type": "execute_result",
          "data": {
            "text/plain": [
              "8"
            ]
          },
          "metadata": {
            "tags": []
          },
          "execution_count": 14
        }
      ]
    },
    {
      "cell_type": "code",
      "metadata": {
        "colab_type": "code",
        "id": "oBXRpBB-LgQr",
        "colab": {},
        "outputId": "04fe6ce0-9a34-4955-cd6a-9f8a9a030cbd"
      },
      "source": [
        "2014 ** 14"
      ],
      "execution_count": null,
      "outputs": [
        {
          "output_type": "execute_result",
          "data": {
            "text/plain": [
              "18064773765607550801425251468864907833685590016"
            ]
          },
          "metadata": {
            "tags": []
          },
          "execution_count": 15
        }
      ]
    },
    {
      "cell_type": "code",
      "metadata": {
        "colab_type": "code",
        "id": "LcLUq4YcLgQu",
        "colab": {},
        "outputId": "5cf776d4-0e92-4747-bdbd-a1d258b802b5"
      },
      "source": [
        "- 42 "
      ],
      "execution_count": null,
      "outputs": [
        {
          "output_type": "execute_result",
          "data": {
            "text/plain": [
              "-42"
            ]
          },
          "metadata": {
            "tags": []
          },
          "execution_count": 16
        }
      ]
    },
    {
      "cell_type": "code",
      "metadata": {
        "colab_type": "code",
        "id": "Gt5KJ5D2LgQz",
        "colab": {},
        "outputId": "761d74ff-4e8b-4e9a-a5b7-05dfd8a2d540"
      },
      "source": [
        "+ 42 "
      ],
      "execution_count": null,
      "outputs": [
        {
          "output_type": "execute_result",
          "data": {
            "text/plain": [
              "42"
            ]
          },
          "metadata": {
            "tags": []
          },
          "execution_count": 17
        }
      ]
    },
    {
      "cell_type": "code",
      "metadata": {
        "colab_type": "code",
        "id": "pM5PjQyrLgQ1",
        "colab": {},
        "outputId": "add87909-491b-4449-b4f4-323d52e76b74"
      },
      "source": [
        "+-+42\n"
      ],
      "execution_count": null,
      "outputs": [
        {
          "output_type": "execute_result",
          "data": {
            "text/plain": [
              "-42"
            ]
          },
          "metadata": {
            "tags": []
          },
          "execution_count": 18
        }
      ]
    },
    {
      "cell_type": "code",
      "metadata": {
        "colab_type": "code",
        "id": "aGNYhIKELgQ3",
        "colab": {},
        "outputId": "5d12a8f9-c616-49b1-ee0c-b53fba382d4c"
      },
      "source": [
        "-*42"
      ],
      "execution_count": null,
      "outputs": [
        {
          "output_type": "error",
          "ename": "SyntaxError",
          "evalue": "invalid syntax (<ipython-input-19-761874de80cf>, line 1)",
          "traceback": [
            "\u001b[1;36m  File \u001b[1;32m\"<ipython-input-19-761874de80cf>\"\u001b[1;36m, line \u001b[1;32m1\u001b[0m\n\u001b[1;33m    -*42\u001b[0m\n\u001b[1;37m     ^\u001b[0m\n\u001b[1;31mSyntaxError\u001b[0m\u001b[1;31m:\u001b[0m invalid syntax\n"
          ]
        }
      ]
    },
    {
      "cell_type": "code",
      "metadata": {
        "colab_type": "code",
        "id": "fmMzrZC_LgQ6",
        "colab": {},
        "outputId": "9b5e923e-f923-46fc-844f-16734b8c6422"
      },
      "source": [
        "+-42\n"
      ],
      "execution_count": null,
      "outputs": [
        {
          "output_type": "execute_result",
          "data": {
            "text/plain": [
              "-42"
            ]
          },
          "metadata": {
            "tags": []
          },
          "execution_count": 20
        }
      ]
    },
    {
      "cell_type": "code",
      "metadata": {
        "colab_type": "code",
        "id": "2L1bIJxoLgQ8",
        "colab": {},
        "outputId": "d79597d3-3245-401a-d6c6-76b6cdf7cb2c"
      },
      "source": [
        "-/42"
      ],
      "execution_count": null,
      "outputs": [
        {
          "output_type": "error",
          "ename": "SyntaxError",
          "evalue": "invalid syntax (<ipython-input-21-923a3883e664>, line 1)",
          "traceback": [
            "\u001b[1;36m  File \u001b[1;32m\"<ipython-input-21-923a3883e664>\"\u001b[1;36m, line \u001b[1;32m1\u001b[0m\n\u001b[1;33m    -/42\u001b[0m\n\u001b[1;37m     ^\u001b[0m\n\u001b[1;31mSyntaxError\u001b[0m\u001b[1;31m:\u001b[0m invalid syntax\n"
          ]
        }
      ]
    },
    {
      "cell_type": "code",
      "metadata": {
        "colab_type": "code",
        "id": "_ZGmNGPaLgQ-",
        "colab": {},
        "outputId": "95b21a87-36c6-49c8-92f7-00c98dacc91c"
      },
      "source": [
        "print ('ints')\n",
        "-/42"
      ],
      "execution_count": null,
      "outputs": [
        {
          "output_type": "error",
          "ename": "SyntaxError",
          "evalue": "invalid syntax (<ipython-input-23-4705a9908303>, line 2)",
          "traceback": [
            "\u001b[1;36m  File \u001b[1;32m\"<ipython-input-23-4705a9908303>\"\u001b[1;36m, line \u001b[1;32m2\u001b[0m\n\u001b[1;33m    -/42\u001b[0m\n\u001b[1;37m     ^\u001b[0m\n\u001b[1;31mSyntaxError\u001b[0m\u001b[1;31m:\u001b[0m invalid syntax\n"
          ]
        }
      ]
    },
    {
      "cell_type": "code",
      "metadata": {
        "colab_type": "code",
        "id": "TukQPIdGLgRA",
        "colab": {},
        "outputId": "3f42444c-1739-4b63-d585-923a80371e21"
      },
      "source": [
        "5 // 0"
      ],
      "execution_count": null,
      "outputs": [
        {
          "output_type": "error",
          "ename": "ZeroDivisionError",
          "evalue": "integer division or modulo by zero",
          "traceback": [
            "\u001b[1;31m---------------------------------------------------------------------------\u001b[0m",
            "\u001b[1;31mZeroDivisionError\u001b[0m                         Traceback (most recent call last)",
            "\u001b[1;32m<ipython-input-24-e6530c2158eb>\u001b[0m in \u001b[0;36m<module>\u001b[1;34m\u001b[0m\n\u001b[1;32m----> 1\u001b[1;33m \u001b[1;36m5\u001b[0m \u001b[1;33m//\u001b[0m \u001b[1;36m0\u001b[0m\u001b[1;33m\u001b[0m\u001b[1;33m\u001b[0m\u001b[0m\n\u001b[0m",
            "\u001b[1;31mZeroDivisionError\u001b[0m: integer division or modulo by zero"
          ]
        }
      ]
    },
    {
      "cell_type": "code",
      "metadata": {
        "colab_type": "code",
        "id": "3-wrFgPqLgRC",
        "colab": {},
        "outputId": "dc6f3ccd-59d8-4041-dbc4-54a29cace81d"
      },
      "source": [
        "0.5"
      ],
      "execution_count": null,
      "outputs": [
        {
          "output_type": "execute_result",
          "data": {
            "text/plain": [
              "0.5"
            ]
          },
          "metadata": {
            "tags": []
          },
          "execution_count": 25
        }
      ]
    },
    {
      "cell_type": "code",
      "metadata": {
        "colab_type": "code",
        "id": "jQZZBR-7LgRE",
        "colab": {},
        "outputId": "b6462360-8381-4a7b-c9ab-c2008524b112"
      },
      "source": [
        "0,5"
      ],
      "execution_count": null,
      "outputs": [
        {
          "output_type": "execute_result",
          "data": {
            "text/plain": [
              "(0, 5)"
            ]
          },
          "metadata": {
            "tags": []
          },
          "execution_count": 26
        }
      ]
    },
    {
      "cell_type": "code",
      "metadata": {
        "colab_type": "code",
        "id": "kYiTRNP3LgRG",
        "colab": {},
        "outputId": "9ea741ce-af0e-4104-c991-33aff276feeb"
      },
      "source": [
        "0.5 + 0.3"
      ],
      "execution_count": null,
      "outputs": [
        {
          "output_type": "execute_result",
          "data": {
            "text/plain": [
              "0.8"
            ]
          },
          "metadata": {
            "tags": []
          },
          "execution_count": 27
        }
      ]
    },
    {
      "cell_type": "code",
      "metadata": {
        "colab_type": "code",
        "id": "8Zq1SnAXLgRI",
        "colab": {},
        "outputId": "62468f16-2f47-4afb-c471-3c887c004aa5"
      },
      "source": [
        "5 / 2"
      ],
      "execution_count": null,
      "outputs": [
        {
          "output_type": "execute_result",
          "data": {
            "text/plain": [
              "2.5"
            ]
          },
          "metadata": {
            "tags": []
          },
          "execution_count": 28
        }
      ]
    },
    {
      "cell_type": "code",
      "metadata": {
        "colab_type": "code",
        "id": "3NqKOGx-LgRK",
        "colab": {},
        "outputId": "3fe6bb11-72d8-40a4-8bce-0df57622de11"
      },
      "source": [
        "5 // 2"
      ],
      "execution_count": null,
      "outputs": [
        {
          "output_type": "execute_result",
          "data": {
            "text/plain": [
              "2"
            ]
          },
          "metadata": {
            "tags": []
          },
          "execution_count": 29
        }
      ]
    },
    {
      "cell_type": "code",
      "metadata": {
        "colab_type": "code",
        "id": "UBnzjtwKLgRM",
        "colab": {},
        "outputId": "894c6437-d45b-4b99-cdef-8ceda3667798"
      },
      "source": [
        "5 % 2"
      ],
      "execution_count": null,
      "outputs": [
        {
          "output_type": "execute_result",
          "data": {
            "text/plain": [
              "1"
            ]
          },
          "metadata": {
            "tags": []
          },
          "execution_count": 30
        }
      ]
    },
    {
      "cell_type": "code",
      "metadata": {
        "colab_type": "code",
        "id": "z8aW1nz1LgRO",
        "colab": {},
        "outputId": "093fd9da-01af-4511-ffd0-f6f47eeee207"
      },
      "source": [
        "1 / 3"
      ],
      "execution_count": null,
      "outputs": [
        {
          "output_type": "execute_result",
          "data": {
            "text/plain": [
              "0.3333333333333333"
            ]
          },
          "metadata": {
            "tags": []
          },
          "execution_count": 31
        }
      ]
    },
    {
      "cell_type": "code",
      "metadata": {
        "colab_type": "code",
        "id": "w81LeorcLgRQ",
        "colab": {},
        "outputId": "c4a0a891-d4b9-4b72-eb1a-daf056102aa2"
      },
      "source": [
        "0.3 + 0.3 + 0.3 "
      ],
      "execution_count": null,
      "outputs": [
        {
          "output_type": "execute_result",
          "data": {
            "text/plain": [
              "0.8999999999999999"
            ]
          },
          "metadata": {
            "tags": []
          },
          "execution_count": 32
        }
      ]
    },
    {
      "cell_type": "code",
      "metadata": {
        "colab_type": "code",
        "id": "8bDKcUdYLgRT",
        "colab": {},
        "outputId": "e6d49c6f-895b-471e-f5aa-0e3db94e7b8c"
      },
      "source": [
        "2 ** 5"
      ],
      "execution_count": null,
      "outputs": [
        {
          "output_type": "execute_result",
          "data": {
            "text/plain": [
              "32"
            ]
          },
          "metadata": {
            "tags": []
          },
          "execution_count": 33
        }
      ]
    },
    {
      "cell_type": "code",
      "metadata": {
        "colab_type": "code",
        "id": "QH82QQIjLgRU",
        "colab": {},
        "outputId": "f399440e-9c57-42c4-e3de-9577a2f33c96"
      },
      "source": [
        "2 ** 0.5"
      ],
      "execution_count": null,
      "outputs": [
        {
          "output_type": "execute_result",
          "data": {
            "text/plain": [
              "1.4142135623730951"
            ]
          },
          "metadata": {
            "tags": []
          },
          "execution_count": 34
        }
      ]
    },
    {
      "cell_type": "code",
      "metadata": {
        "colab_type": "code",
        "id": "Dur0yUSuLgRW",
        "colab": {},
        "outputId": "682ef912-80d7-43cf-ee56-ba819c20268b"
      },
      "source": [
        "9 ** 0.5"
      ],
      "execution_count": null,
      "outputs": [
        {
          "output_type": "execute_result",
          "data": {
            "text/plain": [
              "3.0"
            ]
          },
          "metadata": {
            "tags": []
          },
          "execution_count": 35
        }
      ]
    },
    {
      "cell_type": "code",
      "metadata": {
        "colab_type": "code",
        "id": "TlfUW7WKLgRX",
        "colab": {},
        "outputId": "25d7e3b9-dc50-4afd-b0fa-e8e75db2c9a9"
      },
      "source": [
        "5e-1"
      ],
      "execution_count": null,
      "outputs": [
        {
          "output_type": "execute_result",
          "data": {
            "text/plain": [
              "0.5"
            ]
          },
          "metadata": {
            "tags": []
          },
          "execution_count": 36
        }
      ]
    },
    {
      "cell_type": "code",
      "metadata": {
        "colab_type": "code",
        "id": "X9x1jpGDLgRZ",
        "colab": {},
        "outputId": "6279aea0-371c-490f-934c-4b6437fc1d94"
      },
      "source": [
        "5e2"
      ],
      "execution_count": null,
      "outputs": [
        {
          "output_type": "execute_result",
          "data": {
            "text/plain": [
              "500.0"
            ]
          },
          "metadata": {
            "tags": []
          },
          "execution_count": 37
        }
      ]
    },
    {
      "cell_type": "code",
      "metadata": {
        "colab_type": "code",
        "id": "DXaPMlgfLgRb",
        "colab": {},
        "outputId": "9ce60a4a-7a96-4871-bafd-c14cb499a229"
      },
      "source": [
        "5e1"
      ],
      "execution_count": null,
      "outputs": [
        {
          "output_type": "execute_result",
          "data": {
            "text/plain": [
              "50.0"
            ]
          },
          "metadata": {
            "tags": []
          },
          "execution_count": 38
        }
      ]
    },
    {
      "cell_type": "code",
      "metadata": {
        "colab_type": "code",
        "id": "kfzX31Y8LgRd",
        "colab": {},
        "outputId": "038df9bf-9677-49f0-f43d-44aa588b6152"
      },
      "source": [
        "1234e-2"
      ],
      "execution_count": null,
      "outputs": [
        {
          "output_type": "execute_result",
          "data": {
            "text/plain": [
              "12.34"
            ]
          },
          "metadata": {
            "tags": []
          },
          "execution_count": 39
        }
      ]
    },
    {
      "cell_type": "code",
      "metadata": {
        "colab_type": "code",
        "id": "uE3n1E0jLgRf",
        "colab": {},
        "outputId": "fd833ff9-b856-4b18-d619-1cfe11368380"
      },
      "source": [
        "1234e2"
      ],
      "execution_count": null,
      "outputs": [
        {
          "output_type": "execute_result",
          "data": {
            "text/plain": [
              "123400.0"
            ]
          },
          "metadata": {
            "tags": []
          },
          "execution_count": 40
        }
      ]
    },
    {
      "cell_type": "code",
      "metadata": {
        "colab_type": "code",
        "id": "41ARal84LgRg",
        "colab": {},
        "outputId": "606c6490-3341-41a9-eb45-ac2ea7082940"
      },
      "source": [
        "1.2345e3"
      ],
      "execution_count": null,
      "outputs": [
        {
          "output_type": "execute_result",
          "data": {
            "text/plain": [
              "1234.5"
            ]
          },
          "metadata": {
            "tags": []
          },
          "execution_count": 41
        }
      ]
    },
    {
      "cell_type": "code",
      "metadata": {
        "colab_type": "code",
        "id": "US6GEuhULgRi",
        "colab": {},
        "outputId": "967e55b7-932a-47d3-fe25-23d04a8f773f"
      },
      "source": [
        "2014.0 ** 14"
      ],
      "execution_count": null,
      "outputs": [
        {
          "output_type": "execute_result",
          "data": {
            "text/plain": [
              "1.806477376560755e+46"
            ]
          },
          "metadata": {
            "tags": []
          },
          "execution_count": 42
        }
      ]
    },
    {
      "cell_type": "code",
      "metadata": {
        "colab_type": "code",
        "id": "wYeaKECPLgRl",
        "colab": {},
        "outputId": "d723d042-ce8e-4fad-9461-463d21add6e6"
      },
      "source": [
        "7 / 3"
      ],
      "execution_count": null,
      "outputs": [
        {
          "output_type": "execute_result",
          "data": {
            "text/plain": [
              "2.3333333333333335"
            ]
          },
          "metadata": {
            "tags": []
          },
          "execution_count": 43
        }
      ]
    },
    {
      "cell_type": "code",
      "metadata": {
        "colab_type": "code",
        "id": "mof6n1SbLgRo",
        "colab": {},
        "outputId": "18fc8b04-7c9c-4b1b-dddb-0ce623797acc"
      },
      "source": [
        "int(3.2)"
      ],
      "execution_count": null,
      "outputs": [
        {
          "output_type": "execute_result",
          "data": {
            "text/plain": [
              "3"
            ]
          },
          "metadata": {
            "tags": []
          },
          "execution_count": 44
        }
      ]
    },
    {
      "cell_type": "code",
      "metadata": {
        "colab_type": "code",
        "id": "5CyiGX-XLgRr",
        "colab": {},
        "outputId": "07c70228-c0fc-4e7a-cae0-e9f4b39f35fb"
      },
      "source": [
        "float(3)"
      ],
      "execution_count": null,
      "outputs": [
        {
          "output_type": "execute_result",
          "data": {
            "text/plain": [
              "3.0"
            ]
          },
          "metadata": {
            "tags": []
          },
          "execution_count": 45
        }
      ]
    },
    {
      "cell_type": "code",
      "metadata": {
        "colab_type": "code",
        "id": "_y0a_opRLgRu",
        "colab": {},
        "outputId": "eb30b2fd-4247-4434-9d84-48aa8112b28c"
      },
      "source": [
        "int(2.99)"
      ],
      "execution_count": null,
      "outputs": [
        {
          "output_type": "execute_result",
          "data": {
            "text/plain": [
              "2"
            ]
          },
          "metadata": {
            "tags": []
          },
          "execution_count": 46
        }
      ]
    },
    {
      "cell_type": "code",
      "metadata": {
        "colab_type": "code",
        "id": "4xqtg7NULgRw",
        "colab": {},
        "outputId": "24273bbe-30e2-4400-aec4-06970157a4ba"
      },
      "source": [
        "int(-1.6)"
      ],
      "execution_count": null,
      "outputs": [
        {
          "output_type": "execute_result",
          "data": {
            "text/plain": [
              "-1"
            ]
          },
          "metadata": {
            "tags": []
          },
          "execution_count": 47
        }
      ]
    },
    {
      "cell_type": "code",
      "metadata": {
        "colab_type": "code",
        "id": "IJ8B6XcWLgRy",
        "colab": {},
        "outputId": "37d0aeda-2036-462d-dcc1-2c9da5fd8b30"
      },
      "source": [
        "9 ** 19 - int(float(9 ** 19))"
      ],
      "execution_count": null,
      "outputs": [
        {
          "output_type": "execute_result",
          "data": {
            "text/plain": [
              "89"
            ]
          },
          "metadata": {
            "tags": []
          },
          "execution_count": 48
        }
      ]
    },
    {
      "cell_type": "code",
      "metadata": {
        "colab_type": "code",
        "id": "w2kqMd9YLgR0",
        "colab": {},
        "outputId": "f1f127e0-0323-4b51-eebe-c9735bedd573"
      },
      "source": [
        "9 ** 19"
      ],
      "execution_count": null,
      "outputs": [
        {
          "output_type": "execute_result",
          "data": {
            "text/plain": [
              "1350851717672992089"
            ]
          },
          "metadata": {
            "tags": []
          },
          "execution_count": 49
        }
      ]
    },
    {
      "cell_type": "code",
      "metadata": {
        "colab_type": "code",
        "id": "svFzDAeILgR1",
        "colab": {},
        "outputId": "6ba0115c-2e1b-429d-8eba-ebc6e6e7ecb2"
      },
      "source": [
        "float (9 ** 19)"
      ],
      "execution_count": null,
      "outputs": [
        {
          "output_type": "execute_result",
          "data": {
            "text/plain": [
              "1.350851717672992e+18"
            ]
          },
          "metadata": {
            "tags": []
          },
          "execution_count": 50
        }
      ]
    },
    {
      "cell_type": "code",
      "metadata": {
        "colab_type": "code",
        "id": "LT_uFo8YLgR3",
        "colab": {},
        "outputId": "c3ce5a33-4575-4756-ced7-c72b60233ffc"
      },
      "source": [
        "type(5)"
      ],
      "execution_count": null,
      "outputs": [
        {
          "output_type": "execute_result",
          "data": {
            "text/plain": [
              "int"
            ]
          },
          "metadata": {
            "tags": []
          },
          "execution_count": 51
        }
      ]
    },
    {
      "cell_type": "code",
      "metadata": {
        "colab_type": "code",
        "id": "_sEHe0xaLgR5",
        "colab": {},
        "outputId": "191d5466-a19d-4cd0-c555-fa2c3e7aeb0e"
      },
      "source": [
        "type('fff')"
      ],
      "execution_count": null,
      "outputs": [
        {
          "output_type": "execute_result",
          "data": {
            "text/plain": [
              "str"
            ]
          },
          "metadata": {
            "tags": []
          },
          "execution_count": 52
        }
      ]
    },
    {
      "cell_type": "code",
      "metadata": {
        "colab_type": "code",
        "id": "-7HUBVxvLgR8",
        "colab": {},
        "outputId": "dcfdd671-8913-4c5a-eb9d-96f034fe6d03"
      },
      "source": [
        "type(3.2)"
      ],
      "execution_count": null,
      "outputs": [
        {
          "output_type": "execute_result",
          "data": {
            "text/plain": [
              "float"
            ]
          },
          "metadata": {
            "tags": []
          },
          "execution_count": 53
        }
      ]
    },
    {
      "cell_type": "code",
      "metadata": {
        "colab_type": "code",
        "id": "L53vypTVLgR_",
        "colab": {},
        "outputId": "edb42fb2-c27f-4c9e-b9bc-0b2df59fc538"
      },
      "source": [
        "type(true)"
      ],
      "execution_count": null,
      "outputs": [
        {
          "output_type": "error",
          "ename": "NameError",
          "evalue": "name 'true' is not defined",
          "traceback": [
            "\u001b[1;31m---------------------------------------------------------------------------\u001b[0m",
            "\u001b[1;31mNameError\u001b[0m                                 Traceback (most recent call last)",
            "\u001b[1;32m<ipython-input-54-6f4d8242c3d0>\u001b[0m in \u001b[0;36m<module>\u001b[1;34m\u001b[0m\n\u001b[1;32m----> 1\u001b[1;33m \u001b[0mtype\u001b[0m\u001b[1;33m(\u001b[0m\u001b[0mtrue\u001b[0m\u001b[1;33m)\u001b[0m\u001b[1;33m\u001b[0m\u001b[1;33m\u001b[0m\u001b[0m\n\u001b[0m",
            "\u001b[1;31mNameError\u001b[0m: name 'true' is not defined"
          ]
        }
      ]
    },
    {
      "cell_type": "code",
      "metadata": {
        "colab_type": "code",
        "id": "xmm9644gLgSB",
        "colab": {},
        "outputId": "5b8bc1b3-62bf-4927-b2a0-b875d8333480"
      },
      "source": [
        "type(true)"
      ],
      "execution_count": null,
      "outputs": [
        {
          "output_type": "error",
          "ename": "NameError",
          "evalue": "name 'true' is not defined",
          "traceback": [
            "\u001b[1;31m---------------------------------------------------------------------------\u001b[0m",
            "\u001b[1;31mNameError\u001b[0m                                 Traceback (most recent call last)",
            "\u001b[1;32m<ipython-input-55-6f4d8242c3d0>\u001b[0m in \u001b[0;36m<module>\u001b[1;34m\u001b[0m\n\u001b[1;32m----> 1\u001b[1;33m \u001b[0mtype\u001b[0m\u001b[1;33m(\u001b[0m\u001b[0mtrue\u001b[0m\u001b[1;33m)\u001b[0m\u001b[1;33m\u001b[0m\u001b[1;33m\u001b[0m\u001b[0m\n\u001b[0m",
            "\u001b[1;31mNameError\u001b[0m: name 'true' is not defined"
          ]
        }
      ]
    },
    {
      "cell_type": "code",
      "metadata": {
        "colab_type": "code",
        "id": "DzR4SCvRLgSD",
        "colab": {},
        "outputId": "9c5f4231-93c5-4d4f-c88b-fd5aa61acb3f"
      },
      "source": [
        "type('True')"
      ],
      "execution_count": null,
      "outputs": [
        {
          "output_type": "execute_result",
          "data": {
            "text/plain": [
              "str"
            ]
          },
          "metadata": {
            "tags": []
          },
          "execution_count": 56
        }
      ]
    },
    {
      "cell_type": "code",
      "metadata": {
        "colab_type": "code",
        "id": "YmpAJq3jLgSG",
        "colab": {},
        "outputId": "e2867eb6-a1fc-4d2b-c6c3-cd773998793a"
      },
      "source": [
        "type(False)"
      ],
      "execution_count": null,
      "outputs": [
        {
          "output_type": "execute_result",
          "data": {
            "text/plain": [
              "bool"
            ]
          },
          "metadata": {
            "tags": []
          },
          "execution_count": 57
        }
      ]
    },
    {
      "cell_type": "code",
      "metadata": {
        "colab_type": "code",
        "id": "6pcSZJU4LgSI",
        "colab": {},
        "outputId": "1ca4dc1d-ee7d-46e3-9577-8cdb614f1360"
      },
      "source": [
        "type(True)"
      ],
      "execution_count": null,
      "outputs": [
        {
          "output_type": "execute_result",
          "data": {
            "text/plain": [
              "bool"
            ]
          },
          "metadata": {
            "tags": []
          },
          "execution_count": 58
        }
      ]
    },
    {
      "cell_type": "code",
      "metadata": {
        "colab_type": "code",
        "id": "sjkhQwdbLgSO",
        "colab": {},
        "outputId": "b16258d7-7288-4a32-b22b-7f72762b9d5e"
      },
      "source": [
        "b = 5\n",
        "print(b)\n",
        "b = b + 2\n",
        "print(b)\n",
        "b += 2\n",
        "print(b)\n",
        "b -=5\n",
        "print(b)"
      ],
      "execution_count": null,
      "outputs": [
        {
          "output_type": "stream",
          "text": [
            "5\n",
            "7\n",
            "9\n",
            "4\n"
          ],
          "name": "stdout"
        }
      ]
    },
    {
      "cell_type": "code",
      "metadata": {
        "colab_type": "code",
        "id": "MhRkijnDLgSP",
        "colab": {},
        "outputId": "344eeb4a-2aeb-4904-ac62-582931e480e3"
      },
      "source": [
        "a = 3\n",
        "a *= 2\n",
        "print(a)\n"
      ],
      "execution_count": null,
      "outputs": [
        {
          "output_type": "stream",
          "text": [
            "6\n"
          ],
          "name": "stdout"
        }
      ]
    },
    {
      "cell_type": "code",
      "metadata": {
        "colab_type": "code",
        "id": "aO_SPYXbLgSS",
        "colab": {},
        "outputId": "8e4faedb-fd67-4911-b51e-1502d9e6e85e"
      },
      "source": [
        "a /= 2\n",
        "print(a)"
      ],
      "execution_count": null,
      "outputs": [
        {
          "output_type": "stream",
          "text": [
            "3.0\n"
          ],
          "name": "stdout"
        }
      ]
    },
    {
      "cell_type": "code",
      "metadata": {
        "colab_type": "code",
        "id": "RuPnUR7LLgSU",
        "colab": {},
        "outputId": "25400162-19d3-4680-80d9-a639df0744db"
      },
      "source": [
        "a //= 2\n",
        "print(a)"
      ],
      "execution_count": null,
      "outputs": [
        {
          "output_type": "stream",
          "text": [
            "1.0\n"
          ],
          "name": "stdout"
        }
      ]
    },
    {
      "cell_type": "code",
      "metadata": {
        "colab_type": "code",
        "id": "xhMSLWVLLgSW",
        "colab": {},
        "outputId": "7fdbd0b8-f7ec-4253-cf7e-1b7e08229aea"
      },
      "source": [
        "a = 100\n",
        "a **=2\n",
        "print(a)"
      ],
      "execution_count": null,
      "outputs": [
        {
          "output_type": "stream",
          "text": [
            "10000\n"
          ],
          "name": "stdout"
        }
      ]
    },
    {
      "cell_type": "code",
      "metadata": {
        "colab_type": "code",
        "id": "LFmDzqWCLgSY",
        "colab": {}
      },
      "source": [
        "a = 5\n",
        "b = 5\n",
        "c = 4\n",
        "a *= 2 + c\n",
        "\n",
        "b = b - 2 + c"
      ],
      "execution_count": null,
      "outputs": []
    },
    {
      "cell_type": "code",
      "metadata": {
        "colab_type": "code",
        "id": "2oPdOuulLgSa",
        "colab": {},
        "outputId": "a015ade5-3f78-400b-9cf2-6338ca627d30"
      },
      "source": [
        "print(a,b)"
      ],
      "execution_count": null,
      "outputs": [
        {
          "output_type": "stream",
          "text": [
            "30 7\n"
          ],
          "name": "stdout"
        }
      ]
    },
    {
      "cell_type": "code",
      "metadata": {
        "colab_type": "code",
        "id": "FN7JOo5uLgSc",
        "colab": {},
        "outputId": "2b2e34a9-082d-4d65-beb8-af95ccae391c"
      },
      "source": [
        "print(input())"
      ],
      "execution_count": null,
      "outputs": [
        {
          "output_type": "stream",
          "text": [
            "3434\n",
            "3434\n"
          ],
          "name": "stdout"
        }
      ]
    },
    {
      "cell_type": "code",
      "metadata": {
        "colab_type": "code",
        "id": "MxKq8SXvLgSe",
        "colab": {}
      },
      "source": [
        "a = 3\n"
      ],
      "execution_count": null,
      "outputs": []
    },
    {
      "cell_type": "code",
      "metadata": {
        "colab_type": "code",
        "id": "FPWaIcAELgSf",
        "colab": {},
        "outputId": "659d33f4-8bd3-4716-b05a-d609e206d919"
      },
      "source": [
        "a"
      ],
      "execution_count": null,
      "outputs": [
        {
          "output_type": "execute_result",
          "data": {
            "text/plain": [
              "3"
            ]
          },
          "metadata": {
            "tags": []
          },
          "execution_count": 75
        }
      ]
    },
    {
      "cell_type": "code",
      "metadata": {
        "colab_type": "code",
        "id": "KL6t_ca_LgSh",
        "colab": {}
      },
      "source": [
        "a += 4"
      ],
      "execution_count": null,
      "outputs": []
    },
    {
      "cell_type": "code",
      "metadata": {
        "colab_type": "code",
        "id": "0UVW5mX2LgSi",
        "colab": {},
        "outputId": "0299a7f2-1f8f-446c-db5a-cc6d20b839cd"
      },
      "source": [
        "a"
      ],
      "execution_count": null,
      "outputs": [
        {
          "output_type": "execute_result",
          "data": {
            "text/plain": [
              "7"
            ]
          },
          "metadata": {
            "tags": []
          },
          "execution_count": 77
        }
      ]
    },
    {
      "cell_type": "code",
      "metadata": {
        "colab_type": "code",
        "id": "mktiaaZULgSj",
        "colab": {},
        "outputId": "cf33864c-99c7-44bb-9290-435f7ec88d92"
      },
      "source": [
        "a\n",
        "2 * a"
      ],
      "execution_count": null,
      "outputs": [
        {
          "output_type": "execute_result",
          "data": {
            "text/plain": [
              "14"
            ]
          },
          "metadata": {
            "tags": []
          },
          "execution_count": 78
        }
      ]
    },
    {
      "cell_type": "code",
      "metadata": {
        "colab_type": "code",
        "id": "f-XbDBx_LgSm",
        "colab": {},
        "outputId": "b2a15df2-1d0b-4070-a7bd-6ffc52e77c3d"
      },
      "source": [
        "print (a)\n",
        "print(2 * a)"
      ],
      "execution_count": null,
      "outputs": [
        {
          "output_type": "stream",
          "text": [
            "7\n",
            "14\n"
          ],
          "name": "stdout"
        }
      ]
    },
    {
      "cell_type": "code",
      "metadata": {
        "colab_type": "code",
        "id": "566vKIk-LgSn",
        "colab": {},
        "outputId": "7cfde54d-0b0e-4143-efbb-50103c949a16"
      },
      "source": [
        "print 2 * a"
      ],
      "execution_count": null,
      "outputs": [
        {
          "output_type": "error",
          "ename": "SyntaxError",
          "evalue": "Missing parentheses in call to 'print'. Did you mean print(2 * a)? (<ipython-input-80-838b119e0ca8>, line 1)",
          "traceback": [
            "\u001b[1;36m  File \u001b[1;32m\"<ipython-input-80-838b119e0ca8>\"\u001b[1;36m, line \u001b[1;32m1\u001b[0m\n\u001b[1;33m    print 2 * a\u001b[0m\n\u001b[1;37m          ^\u001b[0m\n\u001b[1;31mSyntaxError\u001b[0m\u001b[1;31m:\u001b[0m Missing parentheses in call to 'print'. Did you mean print(2 * a)?\n"
          ]
        }
      ]
    },
    {
      "cell_type": "code",
      "metadata": {
        "colab_type": "code",
        "id": "8YM-DDstLgSp",
        "colab": {},
        "outputId": "ac3d5b2c-bc0e-4a66-841f-7b4a4be5ba10"
      },
      "source": [
        "name = input('Enter your name:')\n",
        "print('Hello', name)"
      ],
      "execution_count": null,
      "outputs": [
        {
          "output_type": "stream",
          "text": [
            "Enter your name:Alexey\n",
            "Hello Alexey\n"
          ],
          "name": "stdout"
        }
      ]
    },
    {
      "cell_type": "code",
      "metadata": {
        "colab_type": "code",
        "id": "yHLuiWfGLgSs",
        "colab": {},
        "outputId": "e4a52610-2dac-4b14-d37c-aa3225f69b06"
      },
      "source": [
        "a = int(input())\n",
        "print(a * 2)"
      ],
      "execution_count": null,
      "outputs": [
        {
          "output_type": "stream",
          "text": [
            "5\n",
            "10\n"
          ],
          "name": "stdout"
        }
      ]
    },
    {
      "cell_type": "code",
      "metadata": {
        "colab_type": "code",
        "id": "RDJ2ysL7LgSu",
        "colab": {},
        "outputId": "d6bc7266-2fc9-47f3-97f5-c586365cb3f2"
      },
      "source": [
        "a = int(input())\n",
        "b = int(input())\n",
        "print(a * b)"
      ],
      "execution_count": null,
      "outputs": [
        {
          "output_type": "stream",
          "text": [
            "5\n",
            "3\n",
            "15\n"
          ],
          "name": "stdout"
        }
      ]
    },
    {
      "cell_type": "code",
      "metadata": {
        "colab_type": "code",
        "id": "br5AwuZ_LgSw",
        "colab": {},
        "outputId": "e1e85ea9-73d0-4ae3-9604-0fd8a1dd76d3"
      },
      "source": [
        "x = int(input())\n",
        "print(x // 60)\n",
        "print(x % 60)"
      ],
      "execution_count": null,
      "outputs": [
        {
          "output_type": "stream",
          "text": [
            "512\n",
            "8\n",
            "32\n"
          ],
          "name": "stdout"
        }
      ]
    },
    {
      "cell_type": "code",
      "metadata": {
        "colab_type": "code",
        "id": "rpTg9ljSLgSz",
        "colab": {},
        "outputId": "7c967f4f-098a-4cae-dd01-2750ad439b48"
      },
      "source": [
        "x = int(input())\n",
        "xh = int(input())\n",
        "xm = int(input())\n",
        "print((x + xh * 60 + xm) // 60)\n",
        "print((x + xh * 60 + xm) % 60)"
      ],
      "execution_count": null,
      "outputs": [
        {
          "output_type": "stream",
          "text": [
            "475\n",
            "1\n",
            "55\n",
            "9\n",
            "50\n"
          ],
          "name": "stdout"
        }
      ]
    },
    {
      "cell_type": "code",
      "metadata": {
        "colab_type": "code",
        "id": "fGiUQpwQLgS1",
        "colab": {},
        "outputId": "ad2a4898-7195-4a8a-aff8-725ffe5ff24e"
      },
      "source": [
        "print(5 < 7)"
      ],
      "execution_count": null,
      "outputs": [
        {
          "output_type": "stream",
          "text": [
            "True\n"
          ],
          "name": "stdout"
        }
      ]
    },
    {
      "cell_type": "code",
      "metadata": {
        "colab_type": "code",
        "id": "uAUVg6mDLgS2",
        "colab": {},
        "outputId": "d99d820d-a721-413d-f088-8310734b5852"
      },
      "source": [
        "print(int(input()) > 0)"
      ],
      "execution_count": null,
      "outputs": [
        {
          "output_type": "stream",
          "text": [
            "-1\n",
            "False\n"
          ],
          "name": "stdout"
        }
      ]
    },
    {
      "cell_type": "code",
      "metadata": {
        "colab_type": "code",
        "id": "WASvJ4EgLgS4",
        "colab": {},
        "outputId": "f2419a88-464a-494c-b907-d0c1c6909348"
      },
      "source": [
        "print(10 <= int(input()) < 100)"
      ],
      "execution_count": null,
      "outputs": [
        {
          "output_type": "stream",
          "text": [
            "10\n",
            "True\n"
          ],
          "name": "stdout"
        }
      ]
    },
    {
      "cell_type": "code",
      "metadata": {
        "colab_type": "code",
        "id": "t5T-cckeLgS5",
        "colab": {},
        "outputId": "12a724f5-00eb-458e-b254-1243b3016cee"
      },
      "source": [
        "x1, x2, x3 = False, True, False\n",
        "print(not x1 or x2 and x3)"
      ],
      "execution_count": null,
      "outputs": [
        {
          "output_type": "stream",
          "text": [
            "True\n"
          ],
          "name": "stdout"
        }
      ]
    },
    {
      "cell_type": "markdown",
      "metadata": {
        "colab_type": "text",
        "id": "zEFMLhpjLgS6"
      },
      "source": [
        "Приоритет\n",
        "1. not \n",
        "2. and\n",
        "3. or\n"
      ]
    },
    {
      "cell_type": "code",
      "metadata": {
        "colab_type": "code",
        "id": "6nHv4iTuLgS7",
        "colab": {},
        "outputId": "9f691271-2cbe-49ae-ee80-66238096c1c3"
      },
      "source": [
        "print((not(x1) or x2) and x3)"
      ],
      "execution_count": null,
      "outputs": [
        {
          "output_type": "stream",
          "text": [
            "False\n"
          ],
          "name": "stdout"
        }
      ]
    },
    {
      "cell_type": "code",
      "metadata": {
        "colab_type": "code",
        "id": "oABW005-LgS8",
        "colab": {},
        "outputId": "f6092dee-d9e0-4a41-953f-9fff707423b9"
      },
      "source": [
        "x = 5\n",
        "y = 10\n",
        "print( y > x * x or y >= 2 * x and x < y)"
      ],
      "execution_count": null,
      "outputs": [
        {
          "output_type": "stream",
          "text": [
            "True\n"
          ],
          "name": "stdout"
        }
      ]
    },
    {
      "cell_type": "code",
      "metadata": {
        "colab_type": "code",
        "id": "zTyVZHp6LgS-",
        "colab": {},
        "outputId": "38fcc9f6-de57-44a1-dd3b-fe66d2ca2bab"
      },
      "source": [
        "a = True\n",
        "b = False\n",
        "print( a and b or not a and not b)"
      ],
      "execution_count": null,
      "outputs": [
        {
          "output_type": "stream",
          "text": [
            "False\n"
          ],
          "name": "stdout"
        }
      ]
    },
    {
      "cell_type": "code",
      "metadata": {
        "colab_type": "code",
        "id": "LxEEfbd9LgS_",
        "colab": {
          "base_uri": "https://localhost:8080/",
          "height": 50
        },
        "outputId": "af3598b2-7498-4dc9-d38f-b7fb1973faa3"
      },
      "source": [
        "if int(input()) % 2 == 0:\n",
        "  print('Четное')\n",
        "else:\n",
        "  print('Нечетное')"
      ],
      "execution_count": null,
      "outputs": [
        {
          "output_type": "stream",
          "text": [
            "1976\n",
            "Четное\n"
          ],
          "name": "stdout"
        }
      ]
    },
    {
      "cell_type": "code",
      "metadata": {
        "colab_type": "code",
        "id": "tNNxF5v2L36O",
        "colab": {
          "base_uri": "https://localhost:8080/",
          "height": 84
        },
        "outputId": "0c1cca97-c4dd-42f8-ce31-42e2bb28750c"
      },
      "source": [
        "A = int(input())\n",
        "B = int(input())\n",
        "H = int(input())\n",
        "if H < A:\n",
        "  print('Недосып')\n",
        "elif H > B:\n",
        "  print('Пересып')\n",
        "else:\n",
        "  print('Это нормально')"
      ],
      "execution_count": null,
      "outputs": [
        {
          "output_type": "stream",
          "text": [
            "2\n",
            "45\n",
            "23\n",
            "Это нормально\n"
          ],
          "name": "stdout"
        }
      ]
    },
    {
      "cell_type": "code",
      "metadata": {
        "colab_type": "code",
        "id": "e2RZxc_3L93H",
        "colab": {
          "base_uri": "https://localhost:8080/",
          "height": 50
        },
        "outputId": "fd959e1e-93a4-467f-9b5e-f5d5ae10f8e7"
      },
      "source": [
        "Y = int(input())\n",
        "if Y % 400 == 0 or Y % 4 == 0 and not (Y % 100 == 0):\n",
        "  print('Високосный')\n",
        "else:\n",
        "  print('Обычный')"
      ],
      "execution_count": null,
      "outputs": [
        {
          "output_type": "stream",
          "text": [
            "1976\n",
            "Високосный\n"
          ],
          "name": "stdout"
        }
      ]
    },
    {
      "cell_type": "code",
      "metadata": {
        "colab_type": "code",
        "id": "2cerR0xWMDIr",
        "colab": {}
      },
      "source": [
        "Проверка нормальной работы.\n"
      ],
      "execution_count": null,
      "outputs": []
    },
    {
      "cell_type": "code",
      "metadata": {
        "id": "41fsHCamPcrc",
        "colab_type": "code",
        "colab": {}
      },
      "source": [
        ""
      ],
      "execution_count": null,
      "outputs": []
    }
  ]
}