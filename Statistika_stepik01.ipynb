{
  "nbformat": 4,
  "nbformat_minor": 0,
  "metadata": {
    "colab": {
      "name": "Statistika_stepik01.ipynb",
      "provenance": [],
      "authorship_tag": "ABX9TyPaz5zZlnA2d//wlHbUka2F",
      "include_colab_link": true
    },
    "kernelspec": {
      "name": "python3",
      "display_name": "Python 3"
    }
  },
  "cells": [
    {
      "cell_type": "markdown",
      "metadata": {
        "id": "view-in-github",
        "colab_type": "text"
      },
      "source": [
        "<a href=\"https://colab.research.google.com/github/WildOsama2020/Stepik_Python/blob/master/Statistika_stepik01.ipynb\" target=\"_parent\"><img src=\"https://colab.research.google.com/assets/colab-badge.svg\" alt=\"Open In Colab\"/></a>"
      ]
    },
    {
      "cell_type": "markdown",
      "metadata": {
        "id": "NOWuxLx8zqm3"
      },
      "source": [
        "1.5  Меры изменчивости."
      ]
    },
    {
      "cell_type": "code",
      "metadata": {
        "colab": {
          "base_uri": "https://localhost:8080/"
        },
        "id": "c8QVoC-FzoMa",
        "outputId": "77907641-d814-4b09-bcc3-dc6d5f20c4a3"
      },
      "source": [
        "a = [int(i) for i in \"1 5 2 7 1 9 3 8 5 9\".split()]\n",
        "print(a)\n",
        "n = 0\n",
        "for i in a:\n",
        "  n += i\n",
        "n /= len(a)\n",
        "print(n)\n",
        "k = 0\n",
        "for i in a:\n",
        "  k += (i - n) ** 2\n",
        "print((k/(len(a) - 1))**0.5)\n",
        "\n",
        "\n"
      ],
      "execution_count": 10,
      "outputs": [
        {
          "output_type": "stream",
          "text": [
            "[1, 5, 2, 7, 1, 9, 3, 8, 5, 9]\n",
            "5.0\n",
            "3.1622776601683795\n"
          ],
          "name": "stdout"
        }
      ]
    },
    {
      "cell_type": "markdown",
      "metadata": {
        "id": "sD6nMAui2cYz"
      },
      "source": [
        "Как соотносятся дисперсии  двух выборок\n",
        "\n",
        "(1) 1 3 5 6 6 7 9 11\n",
        "\n",
        "(2) 5 7 9 10 10 11 13 15\n",
        "\n",
        "(Постарайтесь решить данное задание не рассчитывая значения дисперсии, но воспользовавшись одним из свойств) "
      ]
    },
    {
      "cell_type": "code",
      "metadata": {
        "colab": {
          "base_uri": "https://localhost:8080/"
        },
        "id": "0PPYCQyV0I7Q",
        "outputId": "538c6bc8-3e77-4c2d-dd00-4f4b6a841284"
      },
      "source": [
        "def proc01(atmp):\n",
        "  a = [int(i) for i in atmp.split()]\n",
        "  n = 0\n",
        "  for i in a:\n",
        "    n += i\n",
        "  n /= len(a)\n",
        "  k = 0\n",
        "  for i in a:\n",
        "    k += (i - n) ** 2\n",
        "  res = (k/(len(a) - 1))**0.5\n",
        "  return res\n",
        "\n",
        "print(proc01(\"2 4 5 8 9 10 14 16\"))\n",
        "print(proc01(\"6 12 15 24 27 30 42 48\"))\n",
        "\n"
      ],
      "execution_count": 13,
      "outputs": [
        {
          "output_type": "stream",
          "text": [
            "4.840306956027833\n",
            "14.5209208680835\n"
          ],
          "name": "stdout"
        }
      ]
    },
    {
      "cell_type": "code",
      "metadata": {
        "id": "DqW9aH8w3Vvo"
      },
      "source": [
        ""
      ],
      "execution_count": null,
      "outputs": []
    }
  ]
}