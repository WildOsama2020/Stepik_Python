{
  "nbformat": 4,
  "nbformat_minor": 0,
  "metadata": {
    "colab": {
      "name": "Python Notebook 02.ipynb",
      "provenance": [],
      "collapsed_sections": [],
      "authorship_tag": "ABX9TyM9QURTBSkLtVZyvOokYCiz",
      "include_colab_link": true
    },
    "kernelspec": {
      "name": "python3",
      "display_name": "Python 3"
    }
  },
  "cells": [
    {
      "cell_type": "markdown",
      "metadata": {
        "id": "view-in-github",
        "colab_type": "text"
      },
      "source": [
        "<a href=\"https://colab.research.google.com/github/WildOsama2020/Stepik_Python/blob/master/Python_Notebook_02.ipynb\" target=\"_parent\"><img src=\"https://colab.research.google.com/assets/colab-badge.svg\" alt=\"Open In Colab\"/></a>"
      ]
    },
    {
      "cell_type": "code",
      "metadata": {
        "id": "G2u2MFQ6r_hR",
        "colab_type": "code",
        "colab": {
          "base_uri": "https://localhost:8080/",
          "height": 34
        },
        "outputId": "e6bbb91d-8883-4f85-efaf-93b8f0be4813"
      },
      "source": [
        "a = 5\n",
        "while a >= 0:\n",
        "  print(a, end= ' ')\n",
        "  a -= 1"
      ],
      "execution_count": null,
      "outputs": [
        {
          "output_type": "stream",
          "text": [
            "5:4:3:2:1:0:"
          ],
          "name": "stdout"
        }
      ]
    },
    {
      "cell_type": "code",
      "metadata": {
        "id": "wjXN3-Pgsv64",
        "colab_type": "code",
        "colab": {
          "base_uri": "https://localhost:8080/",
          "height": 34
        },
        "outputId": "c5011779-319f-40fc-ac35-600de55caa81"
      },
      "source": [
        "i = 0\n",
        "j = 0\n",
        "while i <= 10:\n",
        "  j +=1\n",
        "  i += 1\n",
        "  if i > 7:\n",
        "    i += 2\n",
        "print(i, end=\":\")\n",
        "print(j)\n"
      ],
      "execution_count": null,
      "outputs": [
        {
          "output_type": "stream",
          "text": [
            "13:9\n"
          ],
          "name": "stdout"
        }
      ]
    },
    {
      "cell_type": "code",
      "metadata": {
        "id": "97a0366Ayhnx",
        "colab_type": "code",
        "colab": {
          "base_uri": "https://localhost:8080/",
          "height": 202
        },
        "outputId": "5c09f3d5-b26d-4546-b9d6-13d6b74b03b6"
      },
      "source": [
        "n = int(input())\n",
        "c = 1\n",
        "while c <= n:\n",
        "  print('*' * c)\n",
        "  c +=1"
      ],
      "execution_count": null,
      "outputs": [
        {
          "output_type": "stream",
          "text": [
            "10\n",
            "*\n",
            "**\n",
            "***\n",
            "****\n",
            "*****\n",
            "******\n",
            "*******\n",
            "********\n",
            "*********\n",
            "**********\n"
          ],
          "name": "stdout"
        }
      ]
    },
    {
      "cell_type": "code",
      "metadata": {
        "id": "T8XRIPcwzAUG",
        "colab_type": "code",
        "colab": {
          "base_uri": "https://localhost:8080/",
          "height": 202
        },
        "outputId": "72375eca-908a-421c-c55e-d34152e8214c"
      },
      "source": [
        "n = int(input())\n",
        "stars = '*'\n",
        "while len(stars) <= n:\n",
        "  print(stars)\n",
        "  stars += '*'\n"
      ],
      "execution_count": null,
      "outputs": [
        {
          "output_type": "stream",
          "text": [
            "10\n",
            "*\n",
            "**\n",
            "***\n",
            "****\n",
            "*****\n",
            "******\n",
            "*******\n",
            "********\n",
            "*********\n",
            "**********\n"
          ],
          "name": "stdout"
        }
      ]
    },
    {
      "cell_type": "code",
      "metadata": {
        "id": "LoYjfH1o0fYR",
        "colab_type": "code",
        "colab": {
          "base_uri": "https://localhost:8080/",
          "height": 118
        },
        "outputId": "5b27ef3e-8b94-4068-f128-4d8b5cd4891c"
      },
      "source": [
        "n = int(input())\n",
        "sum = 0\n",
        "while n != 0:\n",
        "  sum +=n\n",
        "  n = int(input())\n",
        "print(sum)"
      ],
      "execution_count": null,
      "outputs": [
        {
          "output_type": "stream",
          "text": [
            "5\n",
            "-3\n",
            "8\n",
            "4\n",
            "0\n",
            "14\n"
          ],
          "name": "stdout"
        }
      ]
    },
    {
      "cell_type": "code",
      "metadata": {
        "id": "xnq__OMW2xUX",
        "colab_type": "code",
        "colab": {
          "base_uri": "https://localhost:8080/",
          "height": 67
        },
        "outputId": "4f7a6f04-feb7-4dbb-ce15-7f57ec4f2c68"
      },
      "source": [
        "a = int(input())\n",
        "b = int(input())\n",
        "d = a * b\n",
        "while a != 0 and b != 0:\n",
        "    if a > b:\n",
        "        a = a % b\n",
        "        #print(a)\n",
        "    else:\n",
        "        b = b % a\n",
        "        #print(b)\n",
        "print(int(d / (a + b)))"
      ],
      "execution_count": null,
      "outputs": [
        {
          "output_type": "stream",
          "text": [
            "15\n",
            "20\n",
            "60\n"
          ],
          "name": "stdout"
        }
      ]
    },
    {
      "cell_type": "code",
      "metadata": {
        "id": "BKB82JYY6QfB",
        "colab_type": "code",
        "colab": {
          "base_uri": "https://localhost:8080/",
          "height": 67
        },
        "outputId": "9c110297-51a1-4577-8d06-c8225a85f7f7"
      },
      "source": [
        "a = int(input())\n",
        "b = int(input())\n",
        "if a < b:\n",
        "    a, b = b, a\n",
        "if a % b != 0:\n",
        "    a *= b\n",
        "print(a)\n"
      ],
      "execution_count": null,
      "outputs": [
        {
          "output_type": "stream",
          "text": [
            "4\n",
            "8\n",
            "8\n"
          ],
          "name": "stdout"
        }
      ]
    },
    {
      "cell_type": "code",
      "metadata": {
        "id": "a7wHsKR77Mj8",
        "colab_type": "code",
        "colab": {
          "base_uri": "https://localhost:8080/",
          "height": 50
        },
        "outputId": "4d9698f4-8e10-4fbd-a827-c318a9450e2d"
      },
      "source": [
        "a, b = input().split()\n",
        "print(a, b)"
      ],
      "execution_count": null,
      "outputs": [
        {
          "output_type": "stream",
          "text": [
            "a b\n",
            "a b\n"
          ],
          "name": "stdout"
        }
      ]
    },
    {
      "cell_type": "code",
      "metadata": {
        "id": "YFGPJ6KBK5T9",
        "colab_type": "code",
        "colab": {
          "base_uri": "https://localhost:8080/",
          "height": 34
        },
        "outputId": "36487a73-77bf-4ead-d177-eb67b0083de0"
      },
      "source": [
        "i = 0\n",
        "while i < 5:\n",
        "  a, b = input().split()\n",
        "  a = int(a)\n",
        "  b = int(b)\n",
        "  if (a == 0) and (b == 0):\n",
        "    break # досрочное завершаем цикл\n",
        "  print(a * b)\n",
        "  i += 1"
      ],
      "execution_count": null,
      "outputs": [
        {
          "output_type": "stream",
          "text": [
            "0 0\n"
          ],
          "name": "stdout"
        }
      ]
    },
    {
      "cell_type": "code",
      "metadata": {
        "id": "m2jlrWRqLjCH",
        "colab_type": "code",
        "colab": {
          "base_uri": "https://localhost:8080/",
          "height": 151
        },
        "outputId": "1b766615-76a7-4e18-fd9f-c0cc6419091a"
      },
      "source": [
        "i = 0\n",
        "while i < 5:\n",
        "  a, b = input().split()\n",
        "  a = int(a)\n",
        "  b = int(b)\n",
        "  if (a == 0) and (b == 0):\n",
        "    break\n",
        "  if (a == 0) or (b == 0):\n",
        "    continue\n",
        "  print(a * b)\n",
        "  i += 1"
      ],
      "execution_count": null,
      "outputs": [
        {
          "output_type": "stream",
          "text": [
            "3 4\n",
            "12\n",
            "1 6\n",
            "6\n",
            "0 7\n",
            "3 2\n",
            "6\n",
            "0 0\n"
          ],
          "name": "stdout"
        }
      ]
    },
    {
      "cell_type": "code",
      "metadata": {
        "id": "plfUoCpvMPKW",
        "colab_type": "code",
        "colab": {
          "base_uri": "https://localhost:8080/",
          "height": 34
        },
        "outputId": "06f8e083-121e-447e-ddc6-d120e2ae63fc"
      },
      "source": [
        "i = 0\n",
        "s = 0\n",
        "while i < 10:\n",
        "  i = i + 1\n",
        "  s = s + i\n",
        "  if s > 15:\n",
        "    break\n",
        "  i = i + 1\n",
        "\n",
        "print(i)"
      ],
      "execution_count": null,
      "outputs": [
        {
          "output_type": "stream",
          "text": [
            "7\n"
          ],
          "name": "stdout"
        }
      ]
    },
    {
      "cell_type": "code",
      "metadata": {
        "id": "etuchPazMqU_",
        "colab_type": "code",
        "colab": {
          "base_uri": "https://localhost:8080/",
          "height": 185
        },
        "outputId": "65b3dc65-41c5-4294-d4a9-cd7dee150ef5"
      },
      "source": [
        "a = True\n",
        "while a:\n",
        "  b = int(input())\n",
        "  if b < 10:\n",
        "    continue\n",
        "  if b > 100:\n",
        "    break\n",
        "  print(b)"
      ],
      "execution_count": null,
      "outputs": [
        {
          "output_type": "stream",
          "text": [
            "13\n",
            "13\n",
            "16\n",
            "16\n",
            "9\n",
            "100\n",
            "100\n",
            "10\n",
            "10\n",
            "101\n"
          ],
          "name": "stdout"
        }
      ]
    },
    {
      "cell_type": "code",
      "metadata": {
        "id": "rkfK_wH8NzLV",
        "colab_type": "code",
        "colab": {
          "base_uri": "https://localhost:8080/",
          "height": 67
        },
        "outputId": "5a81fec9-b9a3-464e-ef24-deaf4410cf8b"
      },
      "source": [
        "for i in 2, 3, 5:\n",
        "  print(i * i)"
      ],
      "execution_count": null,
      "outputs": [
        {
          "output_type": "stream",
          "text": [
            "4\n",
            "9\n",
            "25\n"
          ],
          "name": "stdout"
        }
      ]
    },
    {
      "cell_type": "code",
      "metadata": {
        "id": "s5jKcSjMOsW-",
        "colab_type": "code",
        "colab": {
          "base_uri": "https://localhost:8080/",
          "height": 185
        },
        "outputId": "777911ef-4b1d-4ef1-facb-dbe1cfb25ce2"
      },
      "source": [
        "for i in range(10):\n",
        "  print(i * i)"
      ],
      "execution_count": null,
      "outputs": [
        {
          "output_type": "stream",
          "text": [
            "0\n",
            "1\n",
            "4\n",
            "9\n",
            "16\n",
            "25\n",
            "36\n",
            "49\n",
            "64\n",
            "81\n"
          ],
          "name": "stdout"
        }
      ]
    },
    {
      "cell_type": "code",
      "metadata": {
        "id": "xqRAyvgXOxyq",
        "colab_type": "code",
        "colab": {
          "base_uri": "https://localhost:8080/",
          "height": 134
        },
        "outputId": "92607459-7bc5-400a-e981-0e86da720854"
      },
      "source": [
        "n = int(input())\n",
        "print((n * '* ' +'\\n') * n)"
      ],
      "execution_count": null,
      "outputs": [
        {
          "output_type": "stream",
          "text": [
            "5\n",
            "* * * * * \n",
            "* * * * * \n",
            "* * * * * \n",
            "* * * * * \n",
            "* * * * * \n",
            "\n"
          ],
          "name": "stdout"
        }
      ]
    },
    {
      "cell_type": "code",
      "metadata": {
        "id": "bF24e6U4EMjf",
        "colab_type": "code",
        "colab": {
          "base_uri": "https://localhost:8080/",
          "height": 134
        },
        "outputId": "ea3edb76-7635-429d-fff5-91fb8700d92e"
      },
      "source": [
        "n = int(input())\n",
        "for i in range(n):\n",
        "  print('*' * n)"
      ],
      "execution_count": null,
      "outputs": [
        {
          "output_type": "stream",
          "text": [
            "6\n",
            "******\n",
            "******\n",
            "******\n",
            "******\n",
            "******\n",
            "******\n"
          ],
          "name": "stdout"
        }
      ]
    },
    {
      "cell_type": "code",
      "metadata": {
        "id": "sj7gqJtVEyLN",
        "colab_type": "code",
        "colab": {
          "base_uri": "https://localhost:8080/",
          "height": 134
        },
        "outputId": "25004e68-d9b2-48b3-d5a4-e77128eb4ba3"
      },
      "source": [
        "n = int(input())\n",
        "for i in range(n):\n",
        "  for j in range(n):\n",
        "    print('*', end='')\n",
        "  print()"
      ],
      "execution_count": null,
      "outputs": [
        {
          "output_type": "stream",
          "text": [
            "6\n",
            "******\n",
            "******\n",
            "******\n",
            "******\n",
            "******\n",
            "******\n"
          ],
          "name": "stdout"
        }
      ]
    },
    {
      "cell_type": "code",
      "metadata": {
        "id": "zM59IR2cFL80",
        "colab_type": "code",
        "colab": {
          "base_uri": "https://localhost:8080/",
          "height": 151
        },
        "outputId": "4d54ee87-38e3-46d5-eab7-3499e5ea2154"
      },
      "source": [
        "a, b, c, d = int(input()), int(input()), int(input()), int(input())\n",
        "print('', end='\\t')\n",
        "for i in range(c, d + 1):\n",
        "  print(i, end='\\t')\n",
        "print()\n",
        "for i in range(a, b + 1):\n",
        "  print(i, end='\\t')\n",
        "  for j in range(c, d + 1):\n",
        "    print(i * j, end='\\t', )\n",
        "  print()\n"
      ],
      "execution_count": null,
      "outputs": [
        {
          "output_type": "stream",
          "text": [
            "1\n",
            "3\n",
            "2\n",
            "4\n",
            "\t2\t3\t4\t\n",
            "1\t2\t3\t4\t\n",
            "2\t4\t6\t8\t\n",
            "3\t6\t9\t12\t\n"
          ],
          "name": "stdout"
        }
      ]
    },
    {
      "cell_type": "code",
      "metadata": {
        "id": "E7bT_o8IHW4e",
        "colab_type": "code",
        "colab": {
          "base_uri": "https://localhost:8080/",
          "height": 168
        },
        "outputId": "9bc9dc12-8334-4966-bc90-3d1d814eae43"
      },
      "source": [
        "a, b, c, d = (int(input()) for x in range(4))\n",
        "print('', *range(c,d+1), sep='\\t')\n",
        "for x in range(a, b+1):\n",
        "    print(x, *[y*x for y in range(c, d+1)], sep='\\t')"
      ],
      "execution_count": null,
      "outputs": [
        {
          "output_type": "stream",
          "text": [
            "1\n",
            "4\n",
            "2\n",
            "5\n",
            "\t2\t3\t4\t5\n",
            "1\t2\t3\t4\t5\n",
            "2\t4\t6\t8\t10\n",
            "3\t6\t9\t12\t15\n",
            "4\t8\t12\t16\t20\n"
          ],
          "name": "stdout"
        }
      ]
    },
    {
      "cell_type": "code",
      "metadata": {
        "id": "p7ZOBsDcI-G9",
        "colab_type": "code",
        "colab": {
          "base_uri": "https://localhost:8080/",
          "height": 50
        },
        "outputId": "13d42429-91bd-4b0d-e4ff-8099e4b1a5eb"
      },
      "source": [
        "a, b = (int(i) for i in input().split())\n",
        "s = 0\n",
        "if a % 2 == 0:\n",
        "  a += 1\n",
        "for i in range(a, b + 1, 2):\n",
        "  s += i\n",
        "print(s) "
      ],
      "execution_count": null,
      "outputs": [
        {
          "output_type": "stream",
          "text": [
            "2 9\n",
            "24\n"
          ],
          "name": "stdout"
        }
      ]
    },
    {
      "cell_type": "code",
      "metadata": {
        "id": "CG6EG4d4KsqR",
        "colab_type": "code",
        "colab": {
          "base_uri": "https://localhost:8080/",
          "height": 50
        },
        "outputId": "97a8369a-5301-450f-8ab2-4a9701e9c11f"
      },
      "source": [
        "a, b = (int(i) for i in input().split())\n",
        "s = 0\n",
        "n = 0\n",
        "for i in range(a ,b + 1):\n",
        "  if i % 3 == 0:\n",
        "    n += 1\n",
        "    s += i\n",
        "print(s / n)"
      ],
      "execution_count": null,
      "outputs": [
        {
          "output_type": "stream",
          "text": [
            "-5 12\n",
            "4.5\n"
          ],
          "name": "stdout"
        }
      ]
    },
    {
      "cell_type": "code",
      "metadata": {
        "id": "JgyH4rlJMmKg",
        "colab_type": "code",
        "colab": {
          "base_uri": "https://localhost:8080/",
          "height": 34
        },
        "outputId": "7e168d3b-2f0c-48c9-f642-6df05531c08d"
      },
      "source": [
        "a = '12345'\n",
        "print(int(a[1]))"
      ],
      "execution_count": 1,
      "outputs": [
        {
          "output_type": "stream",
          "text": [
            "2\n"
          ],
          "name": "stdout"
        }
      ]
    },
    {
      "cell_type": "code",
      "metadata": {
        "id": "O7XS_c3VNnqk",
        "colab_type": "code",
        "colab": {
          "base_uri": "https://localhost:8080/",
          "height": 50
        },
        "outputId": "e181982e-79fb-4ad3-d4b0-d4b2d7defba0"
      },
      "source": [
        "genome = input()\n",
        "cnt = 0\n",
        "for nucl in genome:\n",
        "  if nucl == 'C':\n",
        "    cnt += 1\n",
        "print(cnt)"
      ],
      "execution_count": 3,
      "outputs": [
        {
          "output_type": "stream",
          "text": [
            "ACCTA\n",
            "2\n"
          ],
          "name": "stdout"
        }
      ]
    },
    {
      "cell_type": "code",
      "metadata": {
        "id": "GDRNjmjcO6Lh",
        "colab_type": "code",
        "colab": {
          "base_uri": "https://localhost:8080/",
          "height": 50
        },
        "outputId": "5332df27-a017-454b-bba6-4c757928e00c"
      },
      "source": [
        "genome = input()\n",
        "print(genome.count('C'))"
      ],
      "execution_count": 4,
      "outputs": [
        {
          "output_type": "stream",
          "text": [
            "ACCTA\n",
            "2\n"
          ],
          "name": "stdout"
        }
      ]
    },
    {
      "cell_type": "code",
      "metadata": {
        "id": "gAY84RUJPJ3f",
        "colab_type": "code",
        "colab": {
          "base_uri": "https://localhost:8080/",
          "height": 50
        },
        "outputId": "652f7138-56de-46d0-be24-09637cc4dc78"
      },
      "source": [
        "genome = str(input())\n",
        "print((genome.upper().count('C') + genome.upper().count('G')) * 100 / len(genome))"
      ],
      "execution_count": 7,
      "outputs": [
        {
          "output_type": "stream",
          "text": [
            "acggtgttat\n",
            "40.0\n"
          ],
          "name": "stdout"
        }
      ]
    },
    {
      "cell_type": "code",
      "metadata": {
        "id": "rZphARsURf_H",
        "colab_type": "code",
        "colab": {
          "base_uri": "https://localhost:8080/",
          "height": 151
        },
        "outputId": "8c9f1408-1f6d-4fa9-97bd-400a5a27b37e"
      },
      "source": [
        "dna = 'ATTCGGAGCT'\n",
        "print(dna[1])\n",
        "print(dna[1:4])\n",
        "print(dna[:4])\n",
        "print(dna[4:])\n",
        "print(dna[-4:])\n",
        "print(dna[1:-1])\n",
        "print(dna[1:-1:2])\n",
        "print(dna[::-1])"
      ],
      "execution_count": 15,
      "outputs": [
        {
          "output_type": "stream",
          "text": [
            "T\n",
            "TTC\n",
            "ATTC\n",
            "GGAGCT\n",
            "AGCT\n",
            "TTCGGAGC\n",
            "TCGG\n",
            "TCGAGGCTTA\n"
          ],
          "name": "stdout"
        }
      ]
    },
    {
      "cell_type": "code",
      "metadata": {
        "id": "_7eZjBTsSo8s",
        "colab_type": "code",
        "colab": {
          "base_uri": "https://localhost:8080/",
          "height": 34
        },
        "outputId": "47835a07-675b-4900-c3f5-0df3744aca71"
      },
      "source": [
        "s = 'abcdefghijk'\n",
        "print(s[-3:])"
      ],
      "execution_count": 17,
      "outputs": [
        {
          "output_type": "stream",
          "text": [
            "ijk\n"
          ],
          "name": "stdout"
        }
      ]
    },
    {
      "cell_type": "code",
      "metadata": {
        "id": "ZmrKoTNyVrIP",
        "colab_type": "code",
        "colab": {
          "base_uri": "https://localhost:8080/",
          "height": 50
        },
        "outputId": "f29ef5dc-3d83-4318-ec70-d0b11ad58ff2"
      },
      "source": [
        "s = input()\n",
        "r = s[::-1]\n",
        "if s == r:\n",
        "  print('YES')\n",
        "else:\n",
        "  print('NO')"
      ],
      "execution_count": 19,
      "outputs": [
        {
          "output_type": "stream",
          "text": [
            "affjffa\n",
            "YES\n"
          ],
          "name": "stdout"
        }
      ]
    },
    {
      "cell_type": "code",
      "metadata": {
        "id": "JxDl9u10WTGV",
        "colab_type": "code",
        "colab": {
          "base_uri": "https://localhost:8080/",
          "height": 50
        },
        "outputId": "1b58f15e-c06d-41f7-f5ba-84166d2c76e6"
      },
      "source": [
        "s = input()\n",
        "s1 = str()\n",
        "cnt = 0\n",
        "cnt1 = 0\n",
        "x = s[0]\n",
        "for i in s:\n",
        "    cnt1 += 1\n",
        "    if x == i:\n",
        "        cnt += 1\n",
        "    else:\n",
        "        s1 += x + str(cnt)\n",
        "        x = i\n",
        "        cnt = 1\n",
        "    if cnt1 == len(s):\n",
        "        s1 += x + str(cnt)\n",
        "print(s1)\n"
      ],
      "execution_count": 22,
      "outputs": [
        {
          "output_type": "stream",
          "text": [
            "abc\n",
            "a1b1c1\n"
          ],
          "name": "stdout"
        }
      ]
    },
    {
      "cell_type": "code",
      "metadata": {
        "id": "Nnn3uK8uZxEN",
        "colab_type": "code",
        "colab": {
          "base_uri": "https://localhost:8080/",
          "height": 50
        },
        "outputId": "f40f8ccd-aeec-43af-d982-227adfba47ab"
      },
      "source": [
        "genome = input()+' '\n",
        "s = 0\n",
        "n=genome[0]\n",
        "for i in genome:       \n",
        "    if n!=i:\n",
        "        print(n + str(s), end = '')\n",
        "        s=0\n",
        "        n=i\n",
        "    s+=1"
      ],
      "execution_count": 23,
      "outputs": [
        {
          "output_type": "stream",
          "text": [
            "abc\n",
            "a1b1c1"
          ],
          "name": "stdout"
        }
      ]
    },
    {
      "cell_type": "code",
      "metadata": {
        "id": "kF0WruC_aUSY",
        "colab_type": "code",
        "colab": {}
      },
      "source": [
        ""
      ],
      "execution_count": null,
      "outputs": []
    }
  ]
}