{
  "nbformat": 4,
  "nbformat_minor": 0,
  "metadata": {
    "colab": {
      "name": "Python Notebook 02.ipynb",
      "provenance": [],
      "collapsed_sections": [],
      "authorship_tag": "ABX9TyNu3PLHxXsu/Hr5p+yIQ9qE",
      "include_colab_link": true
    },
    "kernelspec": {
      "name": "python3",
      "display_name": "Python 3"
    }
  },
  "cells": [
    {
      "cell_type": "markdown",
      "metadata": {
        "id": "view-in-github",
        "colab_type": "text"
      },
      "source": [
        "<a href=\"https://colab.research.google.com/github/WildOsama2020/Stepik_Python/blob/master/Python_Notebook_02.ipynb\" target=\"_parent\"><img src=\"https://colab.research.google.com/assets/colab-badge.svg\" alt=\"Open In Colab\"/></a>"
      ]
    },
    {
      "cell_type": "code",
      "metadata": {
        "id": "G2u2MFQ6r_hR",
        "outputId": "e6bbb91d-8883-4f85-efaf-93b8f0be4813",
        "colab": {
          "base_uri": "https://localhost:8080/",
          "height": 34
        }
      },
      "source": [
        "a = 5\n",
        "while a >= 0:\n",
        "  print(a, end= ' ')\n",
        "  a -= 1"
      ],
      "execution_count": null,
      "outputs": [
        {
          "output_type": "stream",
          "text": [
            "5:4:3:2:1:0:"
          ],
          "name": "stdout"
        }
      ]
    },
    {
      "cell_type": "code",
      "metadata": {
        "id": "wjXN3-Pgsv64",
        "outputId": "c5011779-319f-40fc-ac35-600de55caa81",
        "colab": {
          "base_uri": "https://localhost:8080/",
          "height": 34
        }
      },
      "source": [
        "i = 0\n",
        "j = 0\n",
        "while i <= 10:\n",
        "  j +=1\n",
        "  i += 1\n",
        "  if i > 7:\n",
        "    i += 2\n",
        "print(i, end=\":\")\n",
        "print(j)\n"
      ],
      "execution_count": null,
      "outputs": [
        {
          "output_type": "stream",
          "text": [
            "13:9\n"
          ],
          "name": "stdout"
        }
      ]
    },
    {
      "cell_type": "code",
      "metadata": {
        "id": "97a0366Ayhnx",
        "outputId": "5c09f3d5-b26d-4546-b9d6-13d6b74b03b6",
        "colab": {
          "base_uri": "https://localhost:8080/",
          "height": 202
        }
      },
      "source": [
        "n = int(input())\n",
        "c = 1\n",
        "while c <= n:\n",
        "  print('*' * c)\n",
        "  c +=1"
      ],
      "execution_count": null,
      "outputs": [
        {
          "output_type": "stream",
          "text": [
            "10\n",
            "*\n",
            "**\n",
            "***\n",
            "****\n",
            "*****\n",
            "******\n",
            "*******\n",
            "********\n",
            "*********\n",
            "**********\n"
          ],
          "name": "stdout"
        }
      ]
    },
    {
      "cell_type": "code",
      "metadata": {
        "id": "T8XRIPcwzAUG",
        "outputId": "72375eca-908a-421c-c55e-d34152e8214c",
        "colab": {
          "base_uri": "https://localhost:8080/",
          "height": 202
        }
      },
      "source": [
        "n = int(input())\n",
        "stars = '*'\n",
        "while len(stars) <= n:\n",
        "  print(stars)\n",
        "  stars += '*'\n"
      ],
      "execution_count": null,
      "outputs": [
        {
          "output_type": "stream",
          "text": [
            "10\n",
            "*\n",
            "**\n",
            "***\n",
            "****\n",
            "*****\n",
            "******\n",
            "*******\n",
            "********\n",
            "*********\n",
            "**********\n"
          ],
          "name": "stdout"
        }
      ]
    },
    {
      "cell_type": "code",
      "metadata": {
        "id": "LoYjfH1o0fYR",
        "outputId": "5b27ef3e-8b94-4068-f128-4d8b5cd4891c",
        "colab": {
          "base_uri": "https://localhost:8080/",
          "height": 118
        }
      },
      "source": [
        "n = int(input())\n",
        "sum = 0\n",
        "while n != 0:\n",
        "  sum +=n\n",
        "  n = int(input())\n",
        "print(sum)"
      ],
      "execution_count": null,
      "outputs": [
        {
          "output_type": "stream",
          "text": [
            "5\n",
            "-3\n",
            "8\n",
            "4\n",
            "0\n",
            "14\n"
          ],
          "name": "stdout"
        }
      ]
    },
    {
      "cell_type": "code",
      "metadata": {
        "id": "xnq__OMW2xUX",
        "outputId": "4f7a6f04-feb7-4dbb-ce15-7f57ec4f2c68",
        "colab": {
          "base_uri": "https://localhost:8080/",
          "height": 67
        }
      },
      "source": [
        "a = int(input())\n",
        "b = int(input())\n",
        "d = a * b\n",
        "while a != 0 and b != 0:\n",
        "    if a > b:\n",
        "        a = a % b\n",
        "        #print(a)\n",
        "    else:\n",
        "        b = b % a\n",
        "        #print(b)\n",
        "print(int(d / (a + b)))"
      ],
      "execution_count": null,
      "outputs": [
        {
          "output_type": "stream",
          "text": [
            "15\n",
            "20\n",
            "60\n"
          ],
          "name": "stdout"
        }
      ]
    },
    {
      "cell_type": "code",
      "metadata": {
        "id": "BKB82JYY6QfB",
        "outputId": "9c110297-51a1-4577-8d06-c8225a85f7f7",
        "colab": {
          "base_uri": "https://localhost:8080/",
          "height": 67
        }
      },
      "source": [
        "a = int(input())\n",
        "b = int(input())\n",
        "if a < b:\n",
        "    a, b = b, a\n",
        "if a % b != 0:\n",
        "    a *= b\n",
        "print(a)\n"
      ],
      "execution_count": null,
      "outputs": [
        {
          "output_type": "stream",
          "text": [
            "4\n",
            "8\n",
            "8\n"
          ],
          "name": "stdout"
        }
      ]
    },
    {
      "cell_type": "code",
      "metadata": {
        "id": "a7wHsKR77Mj8",
        "outputId": "4d9698f4-8e10-4fbd-a827-c318a9450e2d",
        "colab": {
          "base_uri": "https://localhost:8080/",
          "height": 50
        }
      },
      "source": [
        "a, b = input().split()\n",
        "print(a, b)"
      ],
      "execution_count": null,
      "outputs": [
        {
          "output_type": "stream",
          "text": [
            "a b\n",
            "a b\n"
          ],
          "name": "stdout"
        }
      ]
    },
    {
      "cell_type": "code",
      "metadata": {
        "id": "YFGPJ6KBK5T9",
        "outputId": "36487a73-77bf-4ead-d177-eb67b0083de0",
        "colab": {
          "base_uri": "https://localhost:8080/",
          "height": 34
        }
      },
      "source": [
        "i = 0\n",
        "while i < 5:\n",
        "  a, b = input().split()\n",
        "  a = int(a)\n",
        "  b = int(b)\n",
        "  if (a == 0) and (b == 0):\n",
        "    break # досрочное завершаем цикл\n",
        "  print(a * b)\n",
        "  i += 1"
      ],
      "execution_count": null,
      "outputs": [
        {
          "output_type": "stream",
          "text": [
            "0 0\n"
          ],
          "name": "stdout"
        }
      ]
    },
    {
      "cell_type": "code",
      "metadata": {
        "id": "m2jlrWRqLjCH",
        "outputId": "1b766615-76a7-4e18-fd9f-c0cc6419091a",
        "colab": {
          "base_uri": "https://localhost:8080/",
          "height": 151
        }
      },
      "source": [
        "i = 0\n",
        "while i < 5:\n",
        "  a, b = input().split()\n",
        "  a = int(a)\n",
        "  b = int(b)\n",
        "  if (a == 0) and (b == 0):\n",
        "    break\n",
        "  if (a == 0) or (b == 0):\n",
        "    continue\n",
        "  print(a * b)\n",
        "  i += 1"
      ],
      "execution_count": null,
      "outputs": [
        {
          "output_type": "stream",
          "text": [
            "3 4\n",
            "12\n",
            "1 6\n",
            "6\n",
            "0 7\n",
            "3 2\n",
            "6\n",
            "0 0\n"
          ],
          "name": "stdout"
        }
      ]
    },
    {
      "cell_type": "code",
      "metadata": {
        "id": "plfUoCpvMPKW",
        "outputId": "06f8e083-121e-447e-ddc6-d120e2ae63fc",
        "colab": {
          "base_uri": "https://localhost:8080/",
          "height": 34
        }
      },
      "source": [
        "i = 0\n",
        "s = 0\n",
        "while i < 10:\n",
        "  i = i + 1\n",
        "  s = s + i\n",
        "  if s > 15:\n",
        "    break\n",
        "  i = i + 1\n",
        "\n",
        "print(i)"
      ],
      "execution_count": null,
      "outputs": [
        {
          "output_type": "stream",
          "text": [
            "7\n"
          ],
          "name": "stdout"
        }
      ]
    },
    {
      "cell_type": "code",
      "metadata": {
        "id": "etuchPazMqU_",
        "outputId": "65b3dc65-41c5-4294-d4a9-cd7dee150ef5",
        "colab": {
          "base_uri": "https://localhost:8080/",
          "height": 185
        }
      },
      "source": [
        "a = True\n",
        "while a:\n",
        "  b = int(input())\n",
        "  if b < 10:\n",
        "    continue\n",
        "  if b > 100:\n",
        "    break\n",
        "  print(b)"
      ],
      "execution_count": null,
      "outputs": [
        {
          "output_type": "stream",
          "text": [
            "13\n",
            "13\n",
            "16\n",
            "16\n",
            "9\n",
            "100\n",
            "100\n",
            "10\n",
            "10\n",
            "101\n"
          ],
          "name": "stdout"
        }
      ]
    },
    {
      "cell_type": "code",
      "metadata": {
        "id": "rkfK_wH8NzLV",
        "outputId": "5a81fec9-b9a3-464e-ef24-deaf4410cf8b",
        "colab": {
          "base_uri": "https://localhost:8080/",
          "height": 67
        }
      },
      "source": [
        "for i in 2, 3, 5:\n",
        "  print(i * i)"
      ],
      "execution_count": null,
      "outputs": [
        {
          "output_type": "stream",
          "text": [
            "4\n",
            "9\n",
            "25\n"
          ],
          "name": "stdout"
        }
      ]
    },
    {
      "cell_type": "code",
      "metadata": {
        "id": "s5jKcSjMOsW-",
        "outputId": "777911ef-4b1d-4ef1-facb-dbe1cfb25ce2",
        "colab": {
          "base_uri": "https://localhost:8080/",
          "height": 185
        }
      },
      "source": [
        "for i in range(10):\n",
        "  print(i * i)"
      ],
      "execution_count": null,
      "outputs": [
        {
          "output_type": "stream",
          "text": [
            "0\n",
            "1\n",
            "4\n",
            "9\n",
            "16\n",
            "25\n",
            "36\n",
            "49\n",
            "64\n",
            "81\n"
          ],
          "name": "stdout"
        }
      ]
    },
    {
      "cell_type": "code",
      "metadata": {
        "id": "xqRAyvgXOxyq",
        "outputId": "92607459-7bc5-400a-e981-0e86da720854",
        "colab": {
          "base_uri": "https://localhost:8080/",
          "height": 134
        }
      },
      "source": [
        "n = int(input())\n",
        "print((n * '* ' +'\\n') * n)"
      ],
      "execution_count": null,
      "outputs": [
        {
          "output_type": "stream",
          "text": [
            "5\n",
            "* * * * * \n",
            "* * * * * \n",
            "* * * * * \n",
            "* * * * * \n",
            "* * * * * \n",
            "\n"
          ],
          "name": "stdout"
        }
      ]
    },
    {
      "cell_type": "code",
      "metadata": {
        "id": "bF24e6U4EMjf",
        "outputId": "ea3edb76-7635-429d-fff5-91fb8700d92e",
        "colab": {
          "base_uri": "https://localhost:8080/",
          "height": 134
        }
      },
      "source": [
        "n = int(input())\n",
        "for i in range(n):\n",
        "  print('*' * n)"
      ],
      "execution_count": null,
      "outputs": [
        {
          "output_type": "stream",
          "text": [
            "6\n",
            "******\n",
            "******\n",
            "******\n",
            "******\n",
            "******\n",
            "******\n"
          ],
          "name": "stdout"
        }
      ]
    },
    {
      "cell_type": "code",
      "metadata": {
        "id": "sj7gqJtVEyLN",
        "outputId": "25004e68-d9b2-48b3-d5a4-e77128eb4ba3",
        "colab": {
          "base_uri": "https://localhost:8080/",
          "height": 134
        }
      },
      "source": [
        "n = int(input())\n",
        "for i in range(n):\n",
        "  for j in range(n):\n",
        "    print('*', end='')\n",
        "  print()"
      ],
      "execution_count": null,
      "outputs": [
        {
          "output_type": "stream",
          "text": [
            "6\n",
            "******\n",
            "******\n",
            "******\n",
            "******\n",
            "******\n",
            "******\n"
          ],
          "name": "stdout"
        }
      ]
    },
    {
      "cell_type": "code",
      "metadata": {
        "id": "zM59IR2cFL80",
        "outputId": "4d54ee87-38e3-46d5-eab7-3499e5ea2154",
        "colab": {
          "base_uri": "https://localhost:8080/",
          "height": 151
        }
      },
      "source": [
        "a, b, c, d = int(input()), int(input()), int(input()), int(input())\n",
        "print('', end='\\t')\n",
        "for i in range(c, d + 1):\n",
        "  print(i, end='\\t')\n",
        "print()\n",
        "for i in range(a, b + 1):\n",
        "  print(i, end='\\t')\n",
        "  for j in range(c, d + 1):\n",
        "    print(i * j, end='\\t', )\n",
        "  print()\n"
      ],
      "execution_count": null,
      "outputs": [
        {
          "output_type": "stream",
          "text": [
            "1\n",
            "3\n",
            "2\n",
            "4\n",
            "\t2\t3\t4\t\n",
            "1\t2\t3\t4\t\n",
            "2\t4\t6\t8\t\n",
            "3\t6\t9\t12\t\n"
          ],
          "name": "stdout"
        }
      ]
    },
    {
      "cell_type": "code",
      "metadata": {
        "id": "E7bT_o8IHW4e",
        "outputId": "9bc9dc12-8334-4966-bc90-3d1d814eae43",
        "colab": {
          "base_uri": "https://localhost:8080/",
          "height": 168
        }
      },
      "source": [
        "a, b, c, d = (int(input()) for x in range(4))\n",
        "print('', *range(c,d+1), sep='\\t')\n",
        "for x in range(a, b+1):\n",
        "    print(x, *[y*x for y in range(c, d+1)], sep='\\t')"
      ],
      "execution_count": null,
      "outputs": [
        {
          "output_type": "stream",
          "text": [
            "1\n",
            "4\n",
            "2\n",
            "5\n",
            "\t2\t3\t4\t5\n",
            "1\t2\t3\t4\t5\n",
            "2\t4\t6\t8\t10\n",
            "3\t6\t9\t12\t15\n",
            "4\t8\t12\t16\t20\n"
          ],
          "name": "stdout"
        }
      ]
    },
    {
      "cell_type": "code",
      "metadata": {
        "id": "p7ZOBsDcI-G9",
        "outputId": "13d42429-91bd-4b0d-e4ff-8099e4b1a5eb",
        "colab": {
          "base_uri": "https://localhost:8080/",
          "height": 50
        }
      },
      "source": [
        "a, b = (int(i) for i in input().split())\n",
        "s = 0\n",
        "if a % 2 == 0:\n",
        "  a += 1\n",
        "for i in range(a, b + 1, 2):\n",
        "  s += i\n",
        "print(s) "
      ],
      "execution_count": null,
      "outputs": [
        {
          "output_type": "stream",
          "text": [
            "2 9\n",
            "24\n"
          ],
          "name": "stdout"
        }
      ]
    },
    {
      "cell_type": "code",
      "metadata": {
        "id": "CG6EG4d4KsqR",
        "outputId": "97a8369a-5301-450f-8ab2-4a9701e9c11f",
        "colab": {
          "base_uri": "https://localhost:8080/",
          "height": 50
        }
      },
      "source": [
        "a, b = (int(i) for i in input().split())\n",
        "s = 0\n",
        "n = 0\n",
        "for i in range(a ,b + 1):\n",
        "  if i % 3 == 0:\n",
        "    n += 1\n",
        "    s += i\n",
        "print(s / n)"
      ],
      "execution_count": null,
      "outputs": [
        {
          "output_type": "stream",
          "text": [
            "-5 12\n",
            "4.5\n"
          ],
          "name": "stdout"
        }
      ]
    },
    {
      "cell_type": "code",
      "metadata": {
        "id": "JgyH4rlJMmKg",
        "outputId": "7e168d3b-2f0c-48c9-f642-6df05531c08d",
        "colab": {
          "base_uri": "https://localhost:8080/",
          "height": 34
        }
      },
      "source": [
        "a = '12345'\n",
        "print(int(a[1]))"
      ],
      "execution_count": null,
      "outputs": [
        {
          "output_type": "stream",
          "text": [
            "2\n"
          ],
          "name": "stdout"
        }
      ]
    },
    {
      "cell_type": "code",
      "metadata": {
        "id": "O7XS_c3VNnqk",
        "outputId": "e181982e-79fb-4ad3-d4b0-d4b2d7defba0",
        "colab": {
          "base_uri": "https://localhost:8080/",
          "height": 50
        }
      },
      "source": [
        "genome = input()\n",
        "cnt = 0\n",
        "for nucl in genome:\n",
        "  if nucl == 'C':\n",
        "    cnt += 1\n",
        "print(cnt)"
      ],
      "execution_count": null,
      "outputs": [
        {
          "output_type": "stream",
          "text": [
            "ACCTA\n",
            "2\n"
          ],
          "name": "stdout"
        }
      ]
    },
    {
      "cell_type": "code",
      "metadata": {
        "id": "GDRNjmjcO6Lh",
        "outputId": "5332df27-a017-454b-bba6-4c757928e00c",
        "colab": {
          "base_uri": "https://localhost:8080/",
          "height": 50
        }
      },
      "source": [
        "genome = input()\n",
        "print(genome.count('C'))"
      ],
      "execution_count": null,
      "outputs": [
        {
          "output_type": "stream",
          "text": [
            "ACCTA\n",
            "2\n"
          ],
          "name": "stdout"
        }
      ]
    },
    {
      "cell_type": "code",
      "metadata": {
        "id": "gAY84RUJPJ3f",
        "outputId": "652f7138-56de-46d0-be24-09637cc4dc78",
        "colab": {
          "base_uri": "https://localhost:8080/",
          "height": 50
        }
      },
      "source": [
        "genome = str(input())\n",
        "print((genome.upper().count('C') + genome.upper().count('G')) * 100 / len(genome))"
      ],
      "execution_count": null,
      "outputs": [
        {
          "output_type": "stream",
          "text": [
            "acggtgttat\n",
            "40.0\n"
          ],
          "name": "stdout"
        }
      ]
    },
    {
      "cell_type": "code",
      "metadata": {
        "id": "rZphARsURf_H",
        "outputId": "8c9f1408-1f6d-4fa9-97bd-400a5a27b37e",
        "colab": {
          "base_uri": "https://localhost:8080/",
          "height": 151
        }
      },
      "source": [
        "dna = 'ATTCGGAGCT'\n",
        "print(dna[1])\n",
        "print(dna[1:4])\n",
        "print(dna[:4])\n",
        "print(dna[4:])\n",
        "print(dna[-4:])\n",
        "print(dna[1:-1])\n",
        "print(dna[1:-1:2])\n",
        "print(dna[::-1])"
      ],
      "execution_count": null,
      "outputs": [
        {
          "output_type": "stream",
          "text": [
            "T\n",
            "TTC\n",
            "ATTC\n",
            "GGAGCT\n",
            "AGCT\n",
            "TTCGGAGC\n",
            "TCGG\n",
            "TCGAGGCTTA\n"
          ],
          "name": "stdout"
        }
      ]
    },
    {
      "cell_type": "code",
      "metadata": {
        "id": "_7eZjBTsSo8s",
        "outputId": "47835a07-675b-4900-c3f5-0df3744aca71",
        "colab": {
          "base_uri": "https://localhost:8080/",
          "height": 34
        }
      },
      "source": [
        "s = 'abcdefghijk'\n",
        "print(s[-3:])"
      ],
      "execution_count": null,
      "outputs": [
        {
          "output_type": "stream",
          "text": [
            "ijk\n"
          ],
          "name": "stdout"
        }
      ]
    },
    {
      "cell_type": "code",
      "metadata": {
        "id": "ZmrKoTNyVrIP",
        "outputId": "f29ef5dc-3d83-4318-ec70-d0b11ad58ff2",
        "colab": {
          "base_uri": "https://localhost:8080/",
          "height": 50
        }
      },
      "source": [
        "s = input()\n",
        "r = s[::-1]\n",
        "if s == r:\n",
        "  print('YES')\n",
        "else:\n",
        "  print('NO')"
      ],
      "execution_count": null,
      "outputs": [
        {
          "output_type": "stream",
          "text": [
            "affjffa\n",
            "YES\n"
          ],
          "name": "stdout"
        }
      ]
    },
    {
      "cell_type": "code",
      "metadata": {
        "id": "JxDl9u10WTGV",
        "outputId": "1b58f15e-c06d-41f7-f5ba-84166d2c76e6",
        "colab": {
          "base_uri": "https://localhost:8080/",
          "height": 50
        }
      },
      "source": [
        "s = input()\n",
        "s1 = str()\n",
        "cnt = 0\n",
        "cnt1 = 0\n",
        "x = s[0]\n",
        "for i in s:\n",
        "    cnt1 += 1\n",
        "    if x == i:\n",
        "        cnt += 1\n",
        "    else:\n",
        "        s1 += x + str(cnt)\n",
        "        x = i\n",
        "        cnt = 1\n",
        "    if cnt1 == len(s):\n",
        "        s1 += x + str(cnt)\n",
        "print(s1)\n"
      ],
      "execution_count": null,
      "outputs": [
        {
          "output_type": "stream",
          "text": [
            "abc\n",
            "a1b1c1\n"
          ],
          "name": "stdout"
        }
      ]
    },
    {
      "cell_type": "code",
      "metadata": {
        "id": "Nnn3uK8uZxEN",
        "outputId": "f40f8ccd-aeec-43af-d982-227adfba47ab",
        "colab": {
          "base_uri": "https://localhost:8080/",
          "height": 50
        }
      },
      "source": [
        "genome = input()+' '\n",
        "s = 0\n",
        "n=genome[0]\n",
        "for i in genome:       \n",
        "    if n!=i:\n",
        "        print(n + str(s), end = '')\n",
        "        s=0\n",
        "        n=i\n",
        "    s+=1"
      ],
      "execution_count": null,
      "outputs": [
        {
          "output_type": "stream",
          "text": [
            "abc\n",
            "a1b1c1"
          ],
          "name": "stdout"
        }
      ]
    },
    {
      "cell_type": "markdown",
      "metadata": {
        "id": "wtHEhdPk8_gT"
      },
      "source": [
        "Напишите программу, которая считывает с консоли числа (по одному в строке) до тех пор, пока сумма введённых чисел не будет равна 0 и сразу после этого выводит сумму квадратов всех считанных чисел.\n",
        "\n",
        "Гарантируется, что в какой-то момент сумма введённых чисел окажется равной 0, после этого считывание продолжать не нужно.\n",
        "\n",
        "В примере мы считываем числа 1, -3, 5, -6, -10, 13; в этот момент замечаем, что сумма этих чисел равна нулю и выводим сумму их квадратов, не обращая внимания на то, что остались ещё не прочитанные значения.﻿"
      ]
    },
    {
      "cell_type": "code",
      "metadata": {
        "id": "KtNz_O8e9E0p",
        "outputId": "16781954-fb2e-4242-b31f-5c91c10873b9",
        "colab": {
          "base_uri": "https://localhost:8080/",
          "height": 135
        }
      },
      "source": [
        "sum = 0\n",
        "sumq = 0\n",
        "flag = True\n",
        "while flag:\n",
        "  a = int(input())\n",
        "  sum += a\n",
        "  sumq += a * a\n",
        "  if sum == 0:\n",
        "    flag = False\n",
        "print(sumq)"
      ],
      "execution_count": null,
      "outputs": [
        {
          "output_type": "stream",
          "text": [
            "1\n",
            "-3\n",
            "5\n",
            "-6\n",
            "-10\n",
            "13\n",
            "340\n"
          ],
          "name": "stdout"
        }
      ]
    },
    {
      "cell_type": "markdown",
      "metadata": {
        "id": "iHUQN-zxBwRG"
      },
      "source": [
        "Напишите программу, которая выводит часть последовательности 1 2 2 3 3 3 4 4 4 4 5 5 5 5 5 ... (число повторяется столько раз, чему равно). На вход программе передаётся неотрицательное целое число n — столько элементов последовательности должна отобразить программа. На выходе ожидается последовательность чисел, записанных через пробел в одну строку. \n",
        "\n",
        "Например, если n = 7, то программа должна вывести 1 2 2 3 3 3 4."
      ]
    },
    {
      "cell_type": "code",
      "metadata": {
        "id": "TNZx7p4I94Vs",
        "outputId": "ec573210-4ee9-42d6-a159-4cb9255d14a1",
        "colab": {
          "base_uri": "https://localhost:8080/",
          "height": 34
        }
      },
      "source": [
        "n = int(input())\n",
        "k = 0\n",
        "flag = False\n",
        "for i in range(1, n + 1):\n",
        "  if flag:\n",
        "    break\n",
        "  for j in range(1, i + 1):\n",
        "    print(i, end='')\n",
        "    k += 1\n",
        "    if k == n:\n",
        "      flag = True\n",
        "      break"
      ],
      "execution_count": null,
      "outputs": [
        {
          "output_type": "stream",
          "text": [
            "0\n"
          ],
          "name": "stdout"
        }
      ]
    },
    {
      "cell_type": "code",
      "metadata": {
        "id": "VqvPYt-KCruT",
        "outputId": "26c46095-42f3-4e4c-eb18-c61fa1fcc6ed",
        "colab": {
          "base_uri": "https://localhost:8080/",
          "height": 34
        }
      },
      "source": [
        "n = int(input())\n",
        "s = [x for x in range(1, n +1) for y in range(1, x + 1)]\n",
        "for i in range(n):\n",
        "    print(s[i], end=' ')"
      ],
      "execution_count": null,
      "outputs": [
        {
          "output_type": "stream",
          "text": [
            "0\n"
          ],
          "name": "stdout"
        }
      ]
    },
    {
      "cell_type": "code",
      "metadata": {
        "id": "VvfI2_i5GaHT",
        "outputId": "31e6a0f4-826f-4131-a088-b4c9d4e203b4",
        "colab": {
          "base_uri": "https://localhost:8080/",
          "height": 51
        }
      },
      "source": [
        "n = int(input())\n",
        "list = []\n",
        "for i in range(n + 1):\n",
        "  for j in range(i):\n",
        "    list.append(i)\n",
        "# print(*[list[i] for i in range(n)])\n",
        "print(*[list[i] for i in range(n)])"
      ],
      "execution_count": null,
      "outputs": [
        {
          "output_type": "stream",
          "text": [
            "7\n",
            "1 2 2 3 3 3 4\n"
          ],
          "name": "stdout"
        }
      ]
    },
    {
      "cell_type": "markdown",
      "metadata": {
        "id": "0XFtlX0-H9OI"
      },
      "source": [
        "Напишите программу, которая считывает список чисел lstlst из первой строки и число xx из второй строки, которая выводит все позиции, на которых встречается число xx в переданном списке lstlst.\n",
        "\n",
        "Позиции нумеруются с нуля, если число xx не встречается в списке, вывести строку \"Отсутствует\" (без кавычек, с большой буквы).\n",
        "\n",
        "Позиции должны быть выведены в одну строку, по возрастанию абсолютного значения"
      ]
    },
    {
      "cell_type": "code",
      "metadata": {
        "id": "GwUbTuVfH-lo",
        "outputId": "7709a5c0-a9a8-46bf-fee9-a4bb468cd045",
        "colab": {
          "base_uri": "https://localhost:8080/",
          "height": 67
        }
      },
      "source": [
        "lstlst = [int(x) for x in input().split()]\n",
        "xx = int(input())\n",
        "for i, x in enumerate(lstlst):\n",
        "    if xx == lstlst[i]:\n",
        "        print(i, end=' ')\n",
        "if xx not in lstlst:\n",
        "    print('Отсутствует')"
      ],
      "execution_count": 12,
      "outputs": [
        {
          "output_type": "stream",
          "text": [
            "5 8 2 7 8 8 2 4\n",
            "8\n",
            "1 4 5 "
          ],
          "name": "stdout"
        }
      ]
    },
    {
      "cell_type": "code",
      "metadata": {
        "id": "UTMQcMVdPpY1"
      },
      "source": [
        "numbers = [int(i) for i in input().split()]\n",
        "needed = int(input())\n",
        "if needed not in numbers:\n",
        "    print(\"Отсутствует\")\n",
        "else:\n",
        "    [print(i, end=\" \") for i, x in enumerate(numbers) if x == needed]"
      ],
      "execution_count": null,
      "outputs": []
    },
    {
      "cell_type": "markdown",
      "metadata": {
        "id": "mcdwLsxxdZsu"
      },
      "source": [
        "Напишите программу, на вход которой подаётся прямоугольная матрица в виде последовательности строк, заканчивающихся строкой, содержащей только строку \"end\" (без кавычек)\n",
        "\n",
        "Программа должна вывести матрицу того же размера, у которой каждый элемент в позиции i, j равен сумме элементов первой матрицы на позициях (i-1, j), (i+1, j), (i, j-1), (i, j+1). У крайних символов соседний элемент находится с противоположной стороны матрицы.\n",
        "\n",
        "В случае одной строки/столбца элемент сам себе является соседом по соответствующему направлению."
      ]
    },
    {
      "cell_type": "code",
      "metadata": {
        "id": "N-4A7h3KTRfr",
        "outputId": "876354b1-4b26-45a2-ba21-8564a87eeab5",
        "colab": {
          "base_uri": "https://localhost:8080/",
          "height": 118
        }
      },
      "source": [
        "s = []\n",
        "#sout = []\n",
        "while True:\n",
        "    n = str(input())\n",
        "    if n == 'end':\n",
        "        break\n",
        "    s += [[int(i) for i in n.split()]]\n",
        "sout = [[0 for j in range(len(s[0]))] for i in range(len(s))]\n",
        "for i in range(len(s)):\n",
        "    for j in range(len(s[0])):\n",
        "        a1 = i -1\n",
        "        a2 = i + 1\n",
        "        b1 = j - 1\n",
        "        b2 = j + 1\n",
        "        if i == 0:\n",
        "            a1 = len(s) - 1\n",
        "        if i == len(s) - 1:\n",
        "            a2 = 0\n",
        "        if j == 0:\n",
        "            b1 = len(s[0]) - 1\n",
        "        if j == len(s[0]) - 1:\n",
        "            b2 = 0\n",
        "        sout[i][j] = s[i][b1] + s[i][b2] + s[a1][j] + s[a2][j]\n",
        "        print(sout[i][j], end=' ')\n",
        "    print()\n",
        "print(*[sout[i][j] for i in range(len(sout)) for j in range(len(sout[0]))])"
      ],
      "execution_count": 40,
      "outputs": [
        {
          "output_type": "stream",
          "text": [
            "3 4\n",
            "3 5\n",
            "end\n",
            "14 16 \n",
            "16 14 \n",
            "14 16 16 14\n"
          ],
          "name": "stdout"
        }
      ]
    },
    {
      "cell_type": "code",
      "metadata": {
        "id": "WvTktqEyeiem"
      },
      "source": [
        "|c = []\n",
        "while True:\n",
        "    a = [i for i in input().split()]\n",
        "    if a == ['end']:\n",
        "        break\n",
        "    c.append(a)\n",
        "n, m = len(c), len(c[0])\n",
        "for i in range(n):\n",
        "    for j in range(m):\n",
        "        x = int(c[i][j-1]) + int(c[i][j+1-m]) + int(c[i-1][j]) + int(c[i+1-n][j])\n",
        "        print(x, end=' ')\n",
        "    print()"
      ],
      "execution_count": null,
      "outputs": []
    },
    {
      "cell_type": "markdown",
      "metadata": {
        "id": "L9uQxWkMYUmN"
      },
      "source": [
        "Выведите таблицу размером n x n, заполненную числами от 1 до n*n \n",
        "  по спирали, выходящей из левого верхнего угла и закрученной по часовой стрелке, как показано в примере (здесь n=5):\n"
      ]
    },
    {
      "cell_type": "code",
      "metadata": {
        "id": "9A4WbcqPYjgw",
        "outputId": "bf09bccb-7691-48e8-bab3-87d8bf6c7b2b",
        "colab": {
          "base_uri": "https://localhost:8080/",
          "height": 118
        }
      },
      "source": [
        "n = int(input())\n",
        "s = [[0 for i in range(n)] for j in range(n)]\n",
        "x = 0\n",
        "y = 0\n",
        "for i in range(n * n):\n",
        "    s[y][x] = i + 1\n",
        "    if x + 1 < n and s[y][x + 1] == 0 and not (0 <= y - 1 and s[y - 1][x] == 0):\n",
        "            dx = 1\n",
        "            dy = 0\n",
        "    else:\n",
        "        if  y + 1 < n and s[y + 1][x] == 0:\n",
        "            dy = 1\n",
        "            dx = 0\n",
        "        else:    \n",
        "            if 0 <= x - 1 and s[y][x - 1] == 0:\n",
        "                dx = -1\n",
        "                dy = 0\n",
        "            else:    \n",
        "                if 0 <= y - 1 and s[y - 1][x] == 0:\n",
        "                    dy = -1\n",
        "                    dx = 0\n",
        "    x += dx\n",
        "    y += dy\n",
        "for i in s:\n",
        "    #for j in range(n):\n",
        "        #print(s[i][j], end=' ')\n",
        "    print(*i)\n",
        "#print(s)"
      ],
      "execution_count": 59,
      "outputs": [
        {
          "output_type": "stream",
          "text": [
            "5\n",
            "1 2 3 4 5\n",
            "16 17 18 19 6\n",
            "15 24 25 20 7\n",
            "14 23 22 21 8\n",
            "13 12 11 10 9\n"
          ],
          "name": "stdout"
        }
      ]
    },
    {
      "cell_type": "code",
      "metadata": {
        "id": "CQ7ut7vzZoC0",
        "outputId": "1cfb640c-83ac-45c2-fd09-64bc3a6f78cb",
        "colab": {
          "base_uri": "https://localhost:8080/",
          "height": 118
        }
      },
      "source": [
        "n = int(input())\n",
        "x,y,dx,dy, m = 0,0,0,1, [[0]*n for i in range(n)]\n",
        "for i in range(n*n):\n",
        "  m[x][y]=str(i+1)\n",
        "  if x+dx>=n or x+dx<0 or y+dy>=n or y+dy<0 or m[x+dx][y+dy]:\n",
        "      dx,dy = dy,-dx\n",
        "  x,y = x+dx, y+dy\n",
        "print(\"\\n\".join([\" \".join(i) for i in m]))"
      ],
      "execution_count": 58,
      "outputs": [
        {
          "output_type": "stream",
          "text": [
            "5\n",
            "1 2 3 4 5\n",
            "16 17 18 19 6\n",
            "15 24 25 20 7\n",
            "14 23 22 21 8\n",
            "13 12 11 10 9\n"
          ],
          "name": "stdout"
        }
      ]
    },
    {
      "cell_type": "code",
      "metadata": {
        "id": "jQoUBQv13W52"
      },
      "source": [
        ""
      ],
      "execution_count": null,
      "outputs": []
    }
  ]
}